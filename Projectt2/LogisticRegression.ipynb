{
 "cells": [
  {
   "cell_type": "code",
   "execution_count": 1,
   "metadata": {},
   "outputs": [],
   "source": [
    "import pandas as pd\n",
    "import matplotlib.pyplot as plt\n",
    "import seaborn as sns\n",
    "import numpy as np\n",
    "from sklearn import tree\n",
    "from sklearn.preprocessing import StandardScaler, MinMaxScaler, PolynomialFeatures\n",
    "from sklearn.model_selection import train_test_split, KFold, cross_val_score, cross_val_predict, GridSearchCV\n",
    "from sklearn.linear_model import LogisticRegression\n",
    "from sklearn.metrics import accuracy_score, confusion_matrix"
   ]
  },
  {
   "cell_type": "markdown",
   "metadata": {},
   "source": [
    "### Summary of findings (some of which is not shown)\n",
    "\n",
    "We employ here an optimized but simple Logistic Regression, fitting a 2nd order polynomial function to the feature matrix and employing k fold cross validation. \"-phi\" features were dropped because they show uniform densities for both the signal and the background entries, it will not help us discern between the two. It also lessens the computing time. The accuracy score improved from ~0.75 to ~0.82 when a 2nd order polynomial was fitted, but going higher that degree = 2 became extremely straining for the code. The C parameter, or the regularization strength, for the LogisticRegression model was optimized. We found higher accuracy scores for higher C, which could be expectedd because C, by definition, is the inverse of lambda (hyperparameter).\n",
    "\n",
    "Also, log transforming the columns with long tails does not give significant results.\n",
    "\n",
    "Using only the DER-_ features, only lessens the accuracy score. In a design matrix with only the mass features (where signal and background distributions seems to differ from each other), higher degrees of the polynomial features function can be executed, and gives only a max accuracy score of 0.794064 at degree = 4. "
   ]
  },
  {
   "cell_type": "markdown",
   "metadata": {},
   "source": [
    "# Preliminary Logistic Regression"
   ]
  },
  {
   "cell_type": "code",
   "execution_count": 2,
   "metadata": {},
   "outputs": [],
   "source": [
    "# dataset\n",
    "higgs = pd.read_csv('mean_data.csv')\n",
    "\n",
    "# divide by test and train\n",
    "train = higgs[higgs['KaggleSet'] == 't' ]\n",
    "test = higgs[higgs['KaggleSet'] == 'b' ]\n",
    "data = pd.concat((train,test))"
   ]
  },
  {
   "cell_type": "code",
   "execution_count": 27,
   "metadata": {},
   "outputs": [],
   "source": [
    "# cleaning imputed data for logistic regression\n",
    "# we further drop all the phi variables because as established, they increase overfitting because they feature \n",
    "# uniform densities for the signal and background\n",
    "train_label = train['Label']\n",
    "test_label = test['Label']\n",
    "todrop = ['Weight','Label','KaggleSet','KaggleWeight', 'PRI_jet_leading_phi', 'PRI_jet_subleading_phi', 'PRI_met_phi', 'PRI_lep_phi', 'PRI_tau_phi' ]\n",
    "X_train = train.drop(todrop, axis = 1)\n",
    "X_test = test.drop(todrop, axis = 1)\n",
    "\n",
    "# making a design matrix of higher order\n",
    "degree = 2\n",
    "poly = PolynomialFeatures(degree)\n",
    "X_train = poly.fit_transform(X_train)\n",
    "X_test = poly.transform(X_test)\n",
    "\n",
    "# scaling data\n",
    "scaler = StandardScaler() #MinMaxScaler\n",
    "X_train_scaled = scaler.fit_transform(X_train)\n",
    "X_test_scaled = scaler.transform(X_test)\n",
    "X_train_scaled[:,0] = 1\n",
    "X_test_scaled[:,0] = 1"
   ]
  },
  {
   "cell_type": "markdown",
   "metadata": {},
   "source": [
    "## optimizing C parameter"
   ]
  },
  {
   "cell_type": "code",
   "execution_count": 4,
   "metadata": {
    "scrolled": true
   },
   "outputs": [
    {
     "data": {
      "text/plain": [
       "<matplotlib.lines.Line2D at 0x7f9dd70ba438>"
      ]
     },
     "execution_count": 4,
     "metadata": {},
     "output_type": "execute_result"
    },
    {
     "data": {
      "image/png": "[encoded data removed]",
      "text/plain": [
       "<Figure size 432x288 with 1 Axes>"
      ]
     },
     "metadata": {
      "needs_background": "light"
     },
     "output_type": "display_data"
    }
   ],
   "source": [
    "# shorter cross validation + logistic regression fr different C, regularizatio strength\n",
    "fold = 5\n",
    "C_param_range = np.logspace(-2,3,20)\n",
    "c_scores = np.zeros(len(C_param_range))\n",
    "\n",
    "j = 0\n",
    "for c in C_param_range:\n",
    "    kfold = KFold(n_splits = fold, random_state = 10, shuffle = True)\n",
    "    model = LogisticRegression(random_state = 10, C = c, solver = 'lbfgs', max_iter = 100, penalty = 'l2')\n",
    "    model.fit(X_train_scaled, train_label)\n",
    "    y_pred = cross_val_predict(model, X_train_scaled, train_label, cv= kfold)\n",
    "    c_scores[j] = accuracy_score(train_label, y_pred)\n",
    "    j+= 1\n",
    "\n",
    "# saved accuracy score data from previous run\n",
    "#C_param_range = np.logspace(-2,3,20)\n",
    "#acc_score = [0.817788, 0.819872, 0.82138, 0.82182, 0.822468, 0.822616, 0.822824, 0.82286, 0.822868, 0.823144, 0.8231, 0.823216, 0.822768, 0.822984, 0.822824, 0.822852, 0.82274, 0.82266, 0.822764, 0.823]\n",
    "#c_scores = np.array(acc_score)\n",
    "\n",
    "# plots\n",
    "plt.plot(np.log10(C_param_range),c_scores, '--')\n",
    "plt.xlabel('log10(c) parameter')\n",
    "plt.ylabel('score')\n",
    "plt.axvline(max(c_scores))"
   ]
  },
  {
   "cell_type": "markdown",
   "metadata": {},
   "source": [
    "### score of test and train dataset"
   ]
  },
  {
   "cell_type": "code",
   "execution_count": 6,
   "metadata": {},
   "outputs": [
    {
     "name": "stderr",
     "output_type": "stream",
     "text": [
      "/home/carlisle/.local/lib/python3.6/site-packages/sklearn/linear_model/logistic.py:947: ConvergenceWarning: lbfgs failed to converge. Increase the number of iterations.\n",
      "  \"of iterations.\", ConvergenceWarning)\n",
      "/home/carlisle/.local/lib/python3.6/site-packages/sklearn/linear_model/logistic.py:947: ConvergenceWarning: lbfgs failed to converge. Increase the number of iterations.\n",
      "  \"of iterations.\", ConvergenceWarning)\n",
      "/home/carlisle/.local/lib/python3.6/site-packages/sklearn/linear_model/logistic.py:947: ConvergenceWarning: lbfgs failed to converge. Increase the number of iterations.\n",
      "  \"of iterations.\", ConvergenceWarning)\n",
      "/home/carlisle/.local/lib/python3.6/site-packages/sklearn/linear_model/logistic.py:947: ConvergenceWarning: lbfgs failed to converge. Increase the number of iterations.\n",
      "  \"of iterations.\", ConvergenceWarning)\n",
      "/home/carlisle/.local/lib/python3.6/site-packages/sklearn/linear_model/logistic.py:947: ConvergenceWarning: lbfgs failed to converge. Increase the number of iterations.\n",
      "  \"of iterations.\", ConvergenceWarning)\n",
      "/home/carlisle/.local/lib/python3.6/site-packages/sklearn/linear_model/logistic.py:947: ConvergenceWarning: lbfgs failed to converge. Increase the number of iterations.\n",
      "  \"of iterations.\", ConvergenceWarning)\n",
      "/home/carlisle/.local/lib/python3.6/site-packages/sklearn/linear_model/logistic.py:947: ConvergenceWarning: lbfgs failed to converge. Increase the number of iterations.\n",
      "  \"of iterations.\", ConvergenceWarning)\n",
      "/home/carlisle/.local/lib/python3.6/site-packages/sklearn/linear_model/logistic.py:947: ConvergenceWarning: lbfgs failed to converge. Increase the number of iterations.\n",
      "  \"of iterations.\", ConvergenceWarning)\n",
      "/home/carlisle/.local/lib/python3.6/site-packages/sklearn/linear_model/logistic.py:947: ConvergenceWarning: lbfgs failed to converge. Increase the number of iterations.\n",
      "  \"of iterations.\", ConvergenceWarning)\n",
      "/home/carlisle/.local/lib/python3.6/site-packages/sklearn/linear_model/logistic.py:947: ConvergenceWarning: lbfgs failed to converge. Increase the number of iterations.\n",
      "  \"of iterations.\", ConvergenceWarning)\n",
      "/home/carlisle/.local/lib/python3.6/site-packages/sklearn/linear_model/logistic.py:947: ConvergenceWarning: lbfgs failed to converge. Increase the number of iterations.\n",
      "  \"of iterations.\", ConvergenceWarning)\n",
      "/home/carlisle/.local/lib/python3.6/site-packages/sklearn/linear_model/logistic.py:947: ConvergenceWarning: lbfgs failed to converge. Increase the number of iterations.\n",
      "  \"of iterations.\", ConvergenceWarning)\n",
      "/home/carlisle/.local/lib/python3.6/site-packages/sklearn/linear_model/logistic.py:947: ConvergenceWarning: lbfgs failed to converge. Increase the number of iterations.\n",
      "  \"of iterations.\", ConvergenceWarning)\n",
      "/home/carlisle/.local/lib/python3.6/site-packages/sklearn/linear_model/logistic.py:947: ConvergenceWarning: lbfgs failed to converge. Increase the number of iterations.\n",
      "  \"of iterations.\", ConvergenceWarning)\n",
      "/home/carlisle/.local/lib/python3.6/site-packages/sklearn/linear_model/logistic.py:947: ConvergenceWarning: lbfgs failed to converge. Increase the number of iterations.\n",
      "  \"of iterations.\", ConvergenceWarning)\n",
      "/home/carlisle/.local/lib/python3.6/site-packages/sklearn/linear_model/logistic.py:947: ConvergenceWarning: lbfgs failed to converge. Increase the number of iterations.\n",
      "  \"of iterations.\", ConvergenceWarning)\n",
      "/home/carlisle/.local/lib/python3.6/site-packages/sklearn/linear_model/logistic.py:947: ConvergenceWarning: lbfgs failed to converge. Increase the number of iterations.\n",
      "  \"of iterations.\", ConvergenceWarning)\n",
      "/home/carlisle/.local/lib/python3.6/site-packages/sklearn/linear_model/logistic.py:947: ConvergenceWarning: lbfgs failed to converge. Increase the number of iterations.\n",
      "  \"of iterations.\", ConvergenceWarning)\n",
      "/home/carlisle/.local/lib/python3.6/site-packages/sklearn/linear_model/logistic.py:947: ConvergenceWarning: lbfgs failed to converge. Increase the number of iterations.\n",
      "  \"of iterations.\", ConvergenceWarning)\n",
      "/home/carlisle/.local/lib/python3.6/site-packages/sklearn/linear_model/logistic.py:947: ConvergenceWarning: lbfgs failed to converge. Increase the number of iterations.\n",
      "  \"of iterations.\", ConvergenceWarning)\n",
      "/home/carlisle/.local/lib/python3.6/site-packages/sklearn/linear_model/logistic.py:947: ConvergenceWarning: lbfgs failed to converge. Increase the number of iterations.\n",
      "  \"of iterations.\", ConvergenceWarning)\n",
      "/home/carlisle/.local/lib/python3.6/site-packages/sklearn/linear_model/logistic.py:947: ConvergenceWarning: lbfgs failed to converge. Increase the number of iterations.\n",
      "  \"of iterations.\", ConvergenceWarning)\n",
      "/home/carlisle/.local/lib/python3.6/site-packages/sklearn/linear_model/logistic.py:947: ConvergenceWarning: lbfgs failed to converge. Increase the number of iterations.\n",
      "  \"of iterations.\", ConvergenceWarning)\n",
      "/home/carlisle/.local/lib/python3.6/site-packages/sklearn/linear_model/logistic.py:947: ConvergenceWarning: lbfgs failed to converge. Increase the number of iterations.\n",
      "  \"of iterations.\", ConvergenceWarning)\n",
      "/home/carlisle/.local/lib/python3.6/site-packages/sklearn/linear_model/logistic.py:947: ConvergenceWarning: lbfgs failed to converge. Increase the number of iterations.\n",
      "  \"of iterations.\", ConvergenceWarning)\n",
      "/home/carlisle/.local/lib/python3.6/site-packages/sklearn/linear_model/logistic.py:947: ConvergenceWarning: lbfgs failed to converge. Increase the number of iterations.\n",
      "  \"of iterations.\", ConvergenceWarning)\n",
      "/home/carlisle/.local/lib/python3.6/site-packages/sklearn/linear_model/logistic.py:947: ConvergenceWarning: lbfgs failed to converge. Increase the number of iterations.\n",
      "  \"of iterations.\", ConvergenceWarning)\n",
      "/home/carlisle/.local/lib/python3.6/site-packages/sklearn/linear_model/logistic.py:947: ConvergenceWarning: lbfgs failed to converge. Increase the number of iterations.\n",
      "  \"of iterations.\", ConvergenceWarning)\n",
      "/home/carlisle/.local/lib/python3.6/site-packages/sklearn/linear_model/logistic.py:947: ConvergenceWarning: lbfgs failed to converge. Increase the number of iterations.\n",
      "  \"of iterations.\", ConvergenceWarning)\n",
      "/home/carlisle/.local/lib/python3.6/site-packages/sklearn/linear_model/logistic.py:947: ConvergenceWarning: lbfgs failed to converge. Increase the number of iterations.\n",
      "  \"of iterations.\", ConvergenceWarning)\n",
      "/home/carlisle/.local/lib/python3.6/site-packages/sklearn/linear_model/logistic.py:947: ConvergenceWarning: lbfgs failed to converge. Increase the number of iterations.\n",
      "  \"of iterations.\", ConvergenceWarning)\n",
      "/home/carlisle/.local/lib/python3.6/site-packages/sklearn/linear_model/logistic.py:947: ConvergenceWarning: lbfgs failed to converge. Increase the number of iterations.\n",
      "  \"of iterations.\", ConvergenceWarning)\n",
      "/home/carlisle/.local/lib/python3.6/site-packages/sklearn/linear_model/logistic.py:947: ConvergenceWarning: lbfgs failed to converge. Increase the number of iterations.\n",
      "  \"of iterations.\", ConvergenceWarning)\n",
      "/home/carlisle/.local/lib/python3.6/site-packages/sklearn/linear_model/logistic.py:947: ConvergenceWarning: lbfgs failed to converge. Increase the number of iterations.\n",
      "  \"of iterations.\", ConvergenceWarning)\n",
      "/home/carlisle/.local/lib/python3.6/site-packages/sklearn/linear_model/logistic.py:947: ConvergenceWarning: lbfgs failed to converge. Increase the number of iterations.\n",
      "  \"of iterations.\", ConvergenceWarning)\n",
      "/home/carlisle/.local/lib/python3.6/site-packages/sklearn/linear_model/logistic.py:947: ConvergenceWarning: lbfgs failed to converge. Increase the number of iterations.\n",
      "  \"of iterations.\", ConvergenceWarning)\n",
      "/home/carlisle/.local/lib/python3.6/site-packages/sklearn/linear_model/logistic.py:947: ConvergenceWarning: lbfgs failed to converge. Increase the number of iterations.\n",
      "  \"of iterations.\", ConvergenceWarning)\n",
      "/home/carlisle/.local/lib/python3.6/site-packages/sklearn/linear_model/logistic.py:947: ConvergenceWarning: lbfgs failed to converge. Increase the number of iterations.\n",
      "  \"of iterations.\", ConvergenceWarning)\n",
      "/home/carlisle/.local/lib/python3.6/site-packages/sklearn/linear_model/logistic.py:947: ConvergenceWarning: lbfgs failed to converge. Increase the number of iterations.\n",
      "  \"of iterations.\", ConvergenceWarning)\n",
      "/home/carlisle/.local/lib/python3.6/site-packages/sklearn/linear_model/logistic.py:947: ConvergenceWarning: lbfgs failed to converge. Increase the number of iterations.\n",
      "  \"of iterations.\", ConvergenceWarning)\n"
     ]
    },
    {
     "name": "stderr",
     "output_type": "stream",
     "text": [
      "/home/carlisle/.local/lib/python3.6/site-packages/sklearn/linear_model/logistic.py:947: ConvergenceWarning: lbfgs failed to converge. Increase the number of iterations.\n",
      "  \"of iterations.\", ConvergenceWarning)\n",
      "/home/carlisle/.local/lib/python3.6/site-packages/sklearn/linear_model/logistic.py:947: ConvergenceWarning: lbfgs failed to converge. Increase the number of iterations.\n",
      "  \"of iterations.\", ConvergenceWarning)\n",
      "/home/carlisle/.local/lib/python3.6/site-packages/sklearn/linear_model/logistic.py:947: ConvergenceWarning: lbfgs failed to converge. Increase the number of iterations.\n",
      "  \"of iterations.\", ConvergenceWarning)\n",
      "/home/carlisle/.local/lib/python3.6/site-packages/sklearn/linear_model/logistic.py:947: ConvergenceWarning: lbfgs failed to converge. Increase the number of iterations.\n",
      "  \"of iterations.\", ConvergenceWarning)\n",
      "/home/carlisle/.local/lib/python3.6/site-packages/sklearn/linear_model/logistic.py:947: ConvergenceWarning: lbfgs failed to converge. Increase the number of iterations.\n",
      "  \"of iterations.\", ConvergenceWarning)\n",
      "/home/carlisle/.local/lib/python3.6/site-packages/sklearn/linear_model/logistic.py:947: ConvergenceWarning: lbfgs failed to converge. Increase the number of iterations.\n",
      "  \"of iterations.\", ConvergenceWarning)\n",
      "/home/carlisle/.local/lib/python3.6/site-packages/sklearn/linear_model/logistic.py:947: ConvergenceWarning: lbfgs failed to converge. Increase the number of iterations.\n",
      "  \"of iterations.\", ConvergenceWarning)\n",
      "/home/carlisle/.local/lib/python3.6/site-packages/sklearn/linear_model/logistic.py:947: ConvergenceWarning: lbfgs failed to converge. Increase the number of iterations.\n",
      "  \"of iterations.\", ConvergenceWarning)\n",
      "/home/carlisle/.local/lib/python3.6/site-packages/sklearn/linear_model/logistic.py:947: ConvergenceWarning: lbfgs failed to converge. Increase the number of iterations.\n",
      "  \"of iterations.\", ConvergenceWarning)\n",
      "/home/carlisle/.local/lib/python3.6/site-packages/sklearn/linear_model/logistic.py:947: ConvergenceWarning: lbfgs failed to converge. Increase the number of iterations.\n",
      "  \"of iterations.\", ConvergenceWarning)\n",
      "/home/carlisle/.local/lib/python3.6/site-packages/sklearn/linear_model/logistic.py:947: ConvergenceWarning: lbfgs failed to converge. Increase the number of iterations.\n",
      "  \"of iterations.\", ConvergenceWarning)\n",
      "/home/carlisle/.local/lib/python3.6/site-packages/sklearn/linear_model/logistic.py:947: ConvergenceWarning: lbfgs failed to converge. Increase the number of iterations.\n",
      "  \"of iterations.\", ConvergenceWarning)\n",
      "/home/carlisle/.local/lib/python3.6/site-packages/sklearn/linear_model/logistic.py:947: ConvergenceWarning: lbfgs failed to converge. Increase the number of iterations.\n",
      "  \"of iterations.\", ConvergenceWarning)\n",
      "/home/carlisle/.local/lib/python3.6/site-packages/sklearn/linear_model/logistic.py:947: ConvergenceWarning: lbfgs failed to converge. Increase the number of iterations.\n",
      "  \"of iterations.\", ConvergenceWarning)\n",
      "/home/carlisle/.local/lib/python3.6/site-packages/sklearn/linear_model/logistic.py:947: ConvergenceWarning: lbfgs failed to converge. Increase the number of iterations.\n",
      "  \"of iterations.\", ConvergenceWarning)\n"
     ]
    },
    {
     "data": {
      "text/plain": [
       "Text(0, 0.5, 'score')"
      ]
     },
     "execution_count": 6,
     "metadata": {},
     "output_type": "execute_result"
    },
    {
     "data": {
      "image/png": "[encoded data removed]",
      "text/plain": [
       "<Figure size 432x288 with 1 Axes>"
      ]
     },
     "metadata": {
      "needs_background": "light"
     },
     "output_type": "display_data"
    }
   ],
   "source": [
    "fold = 5\n",
    "C_param_range = np.logspace(-2,3,5)\n",
    "c_scores = np.zeros(len(C_param_range))\n",
    "c_scores_test = np.zeros(len(C_param_range))\n",
    "\n",
    "j = 0\n",
    "for c in C_param_range:\n",
    "    kfold = KFold(n_splits = fold, random_state = 10, shuffle = True)\n",
    "    model = LogisticRegression(random_state = 10, C = c, solver = 'lbfgs', max_iter = 100, penalty = 'l2')\n",
    "    model.fit(X_train_scaled, train_label)\n",
    "    y_pred = cross_val_predict(model, X_train_scaled, train_label, cv= kfold)\n",
    "    y_pred_test = cross_val_predict(model, X_test_scaled, test_label, cv= kfold)\n",
    "    c_scores[j] = accuracy_score(train_label, y_pred)\n",
    "    c_scores_test[j] = accuracy_score(test_label, y_pred_test)\n",
    "    j+= 1\n",
    "    \n",
    "plt.plot(np.log10(C_param_range),c_scores, '--', label = 'train')\n",
    "plt.plot(np.log10(C_param_range),c_scores_test, '--', label = 'test')\n",
    "plt.xlabel('log10(c) parameter')\n",
    "plt.ylabel('score')\n",
    "#plt.axvline(max(c_scores))"
   ]
  },
  {
   "cell_type": "code",
   "execution_count": 7,
   "metadata": {
    "scrolled": true
   },
   "outputs": [
    {
     "data": {
      "text/plain": [
       "<matplotlib.legend.Legend at 0x7f8e4b233828>"
      ]
     },
     "execution_count": 7,
     "metadata": {},
     "output_type": "execute_result"
    },
    {
     "data": {
      "image/png": "[encoded data removed]",
      "text/plain": [
       "<Figure size 432x288 with 1 Axes>"
      ]
     },
     "metadata": {
      "needs_background": "light"
     },
     "output_type": "display_data"
    }
   ],
   "source": [
    "plt.plot(np.log10(C_param_range),c_scores, '--', label = 'train')\n",
    "plt.plot(np.log10(C_param_range),c_scores_test, '--', label = 'test')\n",
    "plt.xlabel('log10(c) parameter')\n",
    "plt.ylabel('score')\n",
    "plt.legend()"
   ]
  },
  {
   "cell_type": "markdown",
   "metadata": {},
   "source": [
    "### using best C value"
   ]
  },
  {
   "cell_type": "code",
   "execution_count": 28,
   "metadata": {
    "scrolled": false
   },
   "outputs": [
    {
     "name": "stderr",
     "output_type": "stream",
     "text": [
      "/home/carlisle/.local/lib/python3.6/site-packages/sklearn/linear_model/logistic.py:947: ConvergenceWarning: lbfgs failed to converge. Increase the number of iterations.\n",
      "  \"of iterations.\", ConvergenceWarning)\n",
      "/home/carlisle/.local/lib/python3.6/site-packages/sklearn/linear_model/logistic.py:947: ConvergenceWarning: lbfgs failed to converge. Increase the number of iterations.\n",
      "  \"of iterations.\", ConvergenceWarning)\n",
      "/home/carlisle/.local/lib/python3.6/site-packages/sklearn/linear_model/logistic.py:947: ConvergenceWarning: lbfgs failed to converge. Increase the number of iterations.\n",
      "  \"of iterations.\", ConvergenceWarning)\n",
      "/home/carlisle/.local/lib/python3.6/site-packages/sklearn/linear_model/logistic.py:947: ConvergenceWarning: lbfgs failed to converge. Increase the number of iterations.\n",
      "  \"of iterations.\", ConvergenceWarning)\n",
      "/home/carlisle/.local/lib/python3.6/site-packages/sklearn/linear_model/logistic.py:947: ConvergenceWarning: lbfgs failed to converge. Increase the number of iterations.\n",
      "  \"of iterations.\", ConvergenceWarning)\n",
      "/home/carlisle/.local/lib/python3.6/site-packages/sklearn/linear_model/logistic.py:947: ConvergenceWarning: lbfgs failed to converge. Increase the number of iterations.\n",
      "  \"of iterations.\", ConvergenceWarning)\n"
     ]
    },
    {
     "name": "stdout",
     "output_type": "stream",
     "text": [
      "accuracy score: 0.823288\n",
      "validation scores [0.8181  0.82408 0.8207  0.8226  0.8235 ]\n"
     ]
    }
   ],
   "source": [
    "# using best regularization strength\n",
    "fold = 5\n",
    "c = 7.85 # best value\n",
    "kfold = KFold(n_splits = fold, random_state = 10, shuffle = True)\n",
    "model = LogisticRegression(random_state = 10, C = c, solver = 'lbfgs', max_iter = 100, penalty = 'l2')\n",
    "model.fit(X_train_scaled, train_label)\n",
    "y_pred = model.predict(X_train_scaled)\n",
    "score = cross_val_score(model, X_train_scaled, train_label, cv= kfold)\n",
    "c_scores = accuracy_score(train_label, np.array(y_pred))\n",
    "\n",
    "print('accuracy score:', c_scores)\n",
    "print('validation scores', score)\n",
    "#plt.plot(np.log10(C_param_range),c_scores)"
   ]
  },
  {
   "cell_type": "markdown",
   "metadata": {},
   "source": [
    "# Using only _mass_ columns\n",
    "To demonstrate if there is also overfitting when using higher degree polynomialfeatures fit. The output show decreasing score, therefore overfitting, however has this weird behavior where the test and train score are almost the same. We write this off with the conclusion that degree in PolynomialFeatures() fit in this case is irrelevant."
   ]
  },
  {
   "cell_type": "code",
   "execution_count": 29,
   "metadata": {
    "scrolled": false
   },
   "outputs": [
    {
     "name": "stdout",
     "output_type": "stream",
     "text": [
      "how many s in train pred 65350\n",
      "how many s in test pred 26057\n",
      "how many s in train pred 66414\n",
      "how many s in test pred 26707\n"
     ]
    },
    {
     "name": "stderr",
     "output_type": "stream",
     "text": [
      "/home/carlisle/.local/lib/python3.6/site-packages/sklearn/linear_model/logistic.py:947: ConvergenceWarning: lbfgs failed to converge. Increase the number of iterations.\n",
      "  \"of iterations.\", ConvergenceWarning)\n"
     ]
    },
    {
     "name": "stdout",
     "output_type": "stream",
     "text": [
      "how many s in train pred 68826\n",
      "how many s in test pred 27827\n"
     ]
    },
    {
     "name": "stderr",
     "output_type": "stream",
     "text": [
      "/home/carlisle/.local/lib/python3.6/site-packages/sklearn/linear_model/logistic.py:947: ConvergenceWarning: lbfgs failed to converge. Increase the number of iterations.\n",
      "  \"of iterations.\", ConvergenceWarning)\n"
     ]
    },
    {
     "name": "stdout",
     "output_type": "stream",
     "text": [
      "how many s in train pred 29917\n",
      "how many s in test pred 11991\n"
     ]
    },
    {
     "name": "stderr",
     "output_type": "stream",
     "text": [
      "/home/carlisle/.local/lib/python3.6/site-packages/sklearn/linear_model/logistic.py:947: ConvergenceWarning: lbfgs failed to converge. Increase the number of iterations.\n",
      "  \"of iterations.\", ConvergenceWarning)\n"
     ]
    },
    {
     "name": "stdout",
     "output_type": "stream",
     "text": [
      "how many s in train pred 13\n",
      "how many s in test pred 9\n"
     ]
    },
    {
     "name": "stderr",
     "output_type": "stream",
     "text": [
      "/home/carlisle/.local/lib/python3.6/site-packages/sklearn/linear_model/logistic.py:947: ConvergenceWarning: lbfgs failed to converge. Increase the number of iterations.\n",
      "  \"of iterations.\", ConvergenceWarning)\n"
     ]
    },
    {
     "name": "stdout",
     "output_type": "stream",
     "text": [
      "how many s in train pred 119745\n",
      "how many s in test pred 47672\n"
     ]
    },
    {
     "name": "stderr",
     "output_type": "stream",
     "text": [
      "/home/carlisle/.local/lib/python3.6/site-packages/sklearn/linear_model/logistic.py:947: ConvergenceWarning: lbfgs failed to converge. Increase the number of iterations.\n",
      "  \"of iterations.\", ConvergenceWarning)\n"
     ]
    },
    {
     "name": "stdout",
     "output_type": "stream",
     "text": [
      "how many s in train pred 36496\n",
      "how many s in test pred 14390\n"
     ]
    },
    {
     "name": "stderr",
     "output_type": "stream",
     "text": [
      "/home/carlisle/.local/lib/python3.6/site-packages/sklearn/linear_model/logistic.py:947: ConvergenceWarning: lbfgs failed to converge. Increase the number of iterations.\n",
      "  \"of iterations.\", ConvergenceWarning)\n"
     ]
    },
    {
     "name": "stdout",
     "output_type": "stream",
     "text": [
      "how many s in train pred 117148\n",
      "how many s in test pred 46825\n",
      "how many s in train pred 0\n",
      "how many s in test pred 0\n",
      "how many s in train pred 0\n",
      "how many s in test pred 0\n",
      "how many s in train pred 0\n",
      "how many s in test pred 0\n",
      "Accuracy score (train) [0.700364 0.772004 0.781892 0.735336 0.65732  0.519968 0.631852 0.444036\n",
      " 0.657332 0.657332 0.657332]\n",
      "Accuracy score (test) [0.70234 0.77266 0.7816  0.73768 0.6597  0.51827 0.63217 0.44332 0.65975\n",
      " 0.65975 0.65975]\n"
     ]
    },
    {
     "data": {
      "text/plain": [
       "<matplotlib.legend.Legend at 0x7f8e47561908>"
      ]
     },
     "execution_count": 29,
     "metadata": {},
     "output_type": "execute_result"
    },
    {
     "data": {
      "image/png": "[encoded data removed]",
      "text/plain": [
       "<Figure size 432x288 with 1 Axes>"
      ]
     },
     "metadata": {
      "needs_background": "light"
     },
     "output_type": "display_data"
    }
   ],
   "source": [
    "# dataset\n",
    "higgs = pd.read_csv('mean_data.csv')\n",
    "c = 7.85\n",
    "# divide by test and train\n",
    "train = higgs[higgs['KaggleSet'] == 't' ]\n",
    "test = higgs[higgs['KaggleSet'] == 'b' ]\n",
    "data = pd.concat((train,test))\n",
    "y_train = train['Label']\n",
    "y_test = test['Label']\n",
    "\n",
    "X_train = train[['DER_mass_MMC' , 'DER_mass_transverse_met_lep', 'DER_mass_vis']]\n",
    "X_test = test[['DER_mass_MMC' , 'DER_mass_transverse_met_lep', 'DER_mass_vis']]\n",
    "\n",
    "# scaling\n",
    "scaler = StandardScaler() #MinMaxScaler\n",
    "X_train_scaled = scaler.fit_transform(X_train)\n",
    "X_test_scaled = scaler.transform(X_test)\n",
    "# X_train_scaled[:,0] = 1\n",
    "# X_test_scaled[:,0] = 1\n",
    "\n",
    "## polynomial features\n",
    "# only use for limited features\n",
    "model = LogisticRegression(random_state = 10, C = c, solver = 'lbfgs', max_iter = 100, penalty = 'l2')\n",
    "degree = [i for i in range(1,12)]\n",
    "trainscore = np.zeros(len(degree))\n",
    "testscore = np.zeros(len(degree))\n",
    "\n",
    "j = 0\n",
    "for deg in degree:\n",
    "    poly = PolynomialFeatures(deg)\n",
    "    X_train_scaled_ = poly.fit_transform(X_train_scaled)\n",
    "    X_test_scaled_ = poly.transform(X_test_scaled)\n",
    "    \n",
    "    ## model building \n",
    "    model.fit(X_train_scaled_, y_train)\n",
    "    y_pred = model.predict(X_train_scaled_)\n",
    "    y_pred_test = model.predict(X_test_scaled_)\n",
    "    print('how many s in train pred',list(y_pred).count('s'))\n",
    "    print('how many s in test pred',list(y_pred_test).count('s'))\n",
    "    trainscore[j] = accuracy_score(y_train, y_pred)\n",
    "    testscore[j] = accuracy_score(y_test, y_pred_test)\n",
    "    j += 1\n",
    "    \n",
    "\n",
    "\n",
    "print('Accuracy score (train)', trainscore)\n",
    "print('Accuracy score (test)', testscore)\n",
    "plt.plot(degree, trainscore, label = 'train')\n",
    "plt.plot(degree, testscore, label = 'test')\n",
    "plt.ylabel('score')\n",
    "plt.xlabel('complexity (degree)')\n",
    "plt.legend()"
   ]
  },
  {
   "cell_type": "markdown",
   "metadata": {},
   "source": [
    "Conclusion: changing the design matrix to one with fewer features (even cherry picked features that seem to differntiate 's' and 'b' well does not give further improvement to the model. In fact, increasing the complexity of the polynomial fit overfits the data (even for two different solvers).\n",
    "\n",
    "* note on solvers: 'saga' is supposedly faster. In our case, it is, but it shows lower accuracy scores."
   ]
  },
  {
   "cell_type": "markdown",
   "metadata": {},
   "source": [
    "# Comparing model on differently imputed datasets"
   ]
  },
  {
   "cell_type": "code",
   "execution_count": 2,
   "metadata": {},
   "outputs": [
    {
     "name": "stderr",
     "output_type": "stream",
     "text": [
      "/home/carlisle/.local/lib/python3.6/site-packages/sklearn/linear_model/logistic.py:947: ConvergenceWarning: lbfgs failed to converge. Increase the number of iterations.\n",
      "  \"of iterations.\", ConvergenceWarning)\n"
     ]
    },
    {
     "name": "stdout",
     "output_type": "stream",
     "text": [
      "accuracy score (train): for mean_data.csv 0.823288\n",
      "accuracy score (test): for mean_data.csv 0.81015\n"
     ]
    },
    {
     "name": "stderr",
     "output_type": "stream",
     "text": [
      "/home/carlisle/.local/lib/python3.6/site-packages/sklearn/linear_model/logistic.py:947: ConvergenceWarning: lbfgs failed to converge. Increase the number of iterations.\n",
      "  \"of iterations.\", ConvergenceWarning)\n"
     ]
    },
    {
     "name": "stdout",
     "output_type": "stream",
     "text": [
      "accuracy score (train): for most_frequent_data.csv 0.822736\n",
      "accuracy score (test): for most_frequent_data.csv 0.8052\n"
     ]
    },
    {
     "name": "stderr",
     "output_type": "stream",
     "text": [
      "/home/carlisle/.local/lib/python3.6/site-packages/sklearn/linear_model/logistic.py:947: ConvergenceWarning: lbfgs failed to converge. Increase the number of iterations.\n",
      "  \"of iterations.\", ConvergenceWarning)\n"
     ]
    },
    {
     "name": "stdout",
     "output_type": "stream",
     "text": [
      "accuracy score (train): for zero_data.csv 0.823332\n",
      "accuracy score (test): for zero_data.csv 0.78511\n"
     ]
    }
   ],
   "source": [
    "datas = ['mean_data.csv', 'most_frequent_data.csv', 'zero_data.csv']\n",
    "fold = 5\n",
    "c = 7.85 # best value\n",
    "kfold = KFold(n_splits = fold, random_state = 10, shuffle = True)\n",
    "model = LogisticRegression(random_state = 10, C = c, solver = 'lbfgs', max_iter = 100, penalty = 'l2')\n",
    "\n",
    "for dat in datas:\n",
    "    # dataset\n",
    "    higgs = pd.read_csv(dat)\n",
    "    train = higgs[higgs['KaggleSet'] == 't' ]\n",
    "    test = higgs[higgs['KaggleSet'] == 'b' ]\n",
    "    data = pd.concat((train,test))\n",
    "\n",
    "    train_label = train['Label']\n",
    "    test_label = test['Label']\n",
    "    todrop = ['Weight','Label','KaggleSet','KaggleWeight', 'PRI_jet_leading_phi', 'PRI_jet_subleading_phi', 'PRI_met_phi', 'PRI_lep_phi', 'PRI_tau_phi' ]\n",
    "    X_train = train.drop(todrop, axis = 1)\n",
    "    X_test = test.drop(todrop, axis = 1)\n",
    "    degree = 2\n",
    "    poly = PolynomialFeatures(degree)\n",
    "    X_train = poly.fit_transform(X_train)\n",
    "    X_test = poly.transform(X_test)\n",
    "    scaler = StandardScaler() #MinMaxScaler\n",
    "    X_train_scaled = scaler.fit_transform(X_train)\n",
    "    X_test_scaled = scaler.transform(X_test)\n",
    "    X_train_scaled[:,0] = 1\n",
    "    X_test_scaled[:,0] = 1\n",
    "    \n",
    "    # model\n",
    "    model.fit(X_train_scaled, train_label)\n",
    "    y_pred = model.predict(X_train_scaled)\n",
    "    y_pred_test = model.predict(X_test_scaled)\n",
    "    #score = cross_val_score(model, X_train_scaled, train_label, cv= kfold)\n",
    "\n",
    "    c_scores = accuracy_score(train_label, np.array(y_pred))\n",
    "    c_scores_test = accuracy_score(test_label, np.array(y_pred_test))\n",
    "\n",
    "    print('accuracy score (train):', 'for {}'.format(dat), c_scores)\n",
    "    print('accuracy score (test):', 'for {}'.format(dat), c_scores_test)\n",
    "    #print('validation scores (train)', 'for {}'.format(dat),  score)\n",
    "    "
   ]
  },
  {
   "cell_type": "markdown",
   "metadata": {},
   "source": [
    "Conclusion: the way to handle the missing values data seem to not matter that much with regards to agguracy score of the applied. Nonetheless, the zero imputed data is the one the gives the relatively better accuracy score."
   ]
  },
  {
   "cell_type": "markdown",
   "metadata": {},
   "source": [
    "# Dividing dataset by jet number"
   ]
  },
  {
   "cell_type": "code",
   "execution_count": 8,
   "metadata": {
    "scrolled": false
   },
   "outputs": [
    {
     "name": "stderr",
     "output_type": "stream",
     "text": [
      "/home/carlisle/.local/lib/python3.6/site-packages/sklearn/linear_model/sag.py:337: ConvergenceWarning: The max_iter was reached which means the coef_ did not converge\n",
      "  \"the coef_ did not converge\", ConvergenceWarning)\n"
     ]
    },
    {
     "name": "stdout",
     "output_type": "stream",
     "text": [
      "Score of (train) dataset jet num = 0: 0.8260786884589593\n",
      "Score of (test) dataset jet num = 0: 0.8227971018101238\n",
      "Score of (train) dataset jet num = 1: 0.712292375941401\n",
      "Score of (test) dataset jet num = 1: 0.7126433048618103\n",
      "Score of (train) dataset jet num = 2: 0.7401099664542766\n",
      "Score of (test) dataset jet num = 2: 0.7372939899338794\n",
      "Score of (train) dataset jet num = 3: 0.7305991698249413\n",
      "Score of (test) dataset jet num = 3: 0.7287015945330296\n"
     ]
    },
    {
     "name": "stderr",
     "output_type": "stream",
     "text": [
      "/home/carlisle/.local/lib/python3.6/site-packages/sklearn/linear_model/sag.py:337: ConvergenceWarning: The max_iter was reached which means the coef_ did not converge\n",
      "  \"the coef_ did not converge\", ConvergenceWarning)\n"
     ]
    }
   ],
   "source": [
    "c = 7.85\n",
    "higgs = pd.read_csv('most_frequent_data.csv')\n",
    "jet_nums = [0, 1, 2, 3]\n",
    "train_score = np.zeros(len(jet_nums))\n",
    "test_score = np.zeros(len(jet_nums))\n",
    "model = LogisticRegression(random_state = 10, C = c, solver = 'saga', max_iter = 100, penalty = 'l1')\n",
    "j = 0\n",
    "for jet in jet_nums:\n",
    "    train1 = higgs[higgs['KaggleSet'] == 't']\n",
    "    train = train1[train1['PRI_jet_num'] == jet]\n",
    "    test1 = higgs[higgs['KaggleSet'] == 'b']\n",
    "    test = test1[test1['PRI_jet_num'] == jet]\n",
    "    data = pd.concat((train,test))\n",
    "    y_train = train['Label']\n",
    "    y_test = test['Label']\n",
    "    \n",
    "    # feature matrix for each value of jet_num\n",
    "    if jet == 0:\n",
    "        todrop = ['Weight','Label','KaggleSet','KaggleWeight', 'PRI_jet_num', 'DER_deltaeta_jet_jet', 'DER_mass_jet_jet', 'DER_prodeta_jet_jet', 'DER_lep_eta_centrality', 'PRI_jet_leading_pt', 'PRI_jet_leading_eta', 'PRI_jet_leading_phi', 'PRI_jet_subleading_pt', 'PRI_jet_subleading_eta', 'PRI_jet_subleading_phi'] \n",
    "    elif jet == 1:\n",
    "        todrop = ['Weight','Label','KaggleSet','KaggleWeight', 'PRI_jet_num', 'DER_deltaeta_jet_jet', 'DER_mass_jet_jet', 'DER_prodeta_jet_jet', 'DER_lep_eta_centrality', 'PRI_jet_subleading_pt', 'PRI_jet_subleading_eta', 'PRI_jet_subleading_phi']\n",
    "    else:\n",
    "        todrop = ['Weight','Label','KaggleSet','KaggleWeight', 'PRI_jet_num'] \n",
    "    \n",
    "    X_train = train.drop(todrop, axis = 1).set_index('EventId')\n",
    "    X_test = test.drop(todrop, axis = 1).set_index('EventId')\n",
    "    scaler = StandardScaler() #MinMaxScaler\n",
    "    X_train_scaled = scaler.fit_transform(X_train)\n",
    "    X_test_scaled = scaler.transform(X_test)\n",
    "    X_train_scaled[:,0] = 1\n",
    "    X_test_scaled[:,0] = 1\n",
    "    model.fit(X_train_scaled, y_train)\n",
    "    y_pred = model.predict(X_train_scaled)\n",
    "    y_pred_test = model.predict(X_test_scaled)\n",
    "    train_score[j] = accuracy_score(y_train, y_pred)\n",
    "    test_score[j] = accuracy_score(y_test, y_pred_test)\n",
    "    print('Score of (train) dataset', 'jet num = {}:'.format(jet) ,accuracy_score(y_train, y_pred))\n",
    "    print('Score of (test) dataset', 'jet num = {}:'.format(jet) ,accuracy_score(y_test, y_pred_test))"
   ]
  },
  {
   "cell_type": "markdown",
   "metadata": {},
   "source": [
    "We make a confusion matrix using jet = 3 dataset and the most_frequent.csv"
   ]
  },
  {
   "cell_type": "markdown",
   "metadata": {},
   "source": [
    "# Final Confusion Matrix and Cumulative gain curve\n",
    "\n",
    "(see definitions of confusion matrix and cumulative gain curve in decisiontree analysis)\n",
    "\n",
    "Uses \"most_frequent.csv\" and jet = 3 from last run in previous kernel. "
   ]
  },
  {
   "cell_type": "code",
   "execution_count": 10,
   "metadata": {},
   "outputs": [
    {
     "data": {
      "text/plain": [
       "<AxesSubplot:>"
      ]
     },
     "execution_count": 10,
     "metadata": {},
     "output_type": "execute_result"
    },
    {
     "data": {
      "image/png": "[encoded data removed]",
      "text/plain": [
       "<Figure size 720x576 with 2 Axes>"
      ]
     },
     "metadata": {
      "needs_background": "light"
     },
     "output_type": "display_data"
    }
   ],
   "source": [
    "confmat = confusion_matrix(y_test, y_pred_test, labels = ['s','b'])\n",
    "cm = pd.DataFrame(confmat,\n",
    "                  index = ['signal (true)' , 'background (true)'], \n",
    "                  columns = ['signal (model)', ' background (model)'])\n",
    "cm\n",
    "plt.figure(figsize=[10,8])\n",
    "sns.heatmap(cm, cmap='Greens', linecolor = 'black', annot = True, fmt='d')"
   ]
  },
  {
   "cell_type": "code",
   "execution_count": 15,
   "metadata": {},
   "outputs": [
    {
     "data": {
      "text/plain": [
       "<AxesSubplot:title={'center':'Cumulative Gains Curve'}, xlabel='Percentage of sample', ylabel='Gain'>"
      ]
     },
     "execution_count": 15,
     "metadata": {},
     "output_type": "execute_result"
    },
    {
     "data": {
      "image/png": "[encoded data removed]",
      "text/plain": [
       "<Figure size 432x288 with 1 Axes>"
      ]
     },
     "metadata": {
      "needs_background": "light"
     },
     "output_type": "display_data"
    }
   ],
   "source": [
    "import scikitplot as skplt\n",
    "y_probas = model.predict_proba(X_test_scaled)\n",
    "skplt.metrics.plot_cumulative_gain(y_test, y_probas)"
   ]
  }
 ],
 "metadata": {
  "kernelspec": {
   "display_name": "Python 3",
   "language": "python",
   "name": "python3"
  },
  "language_info": {
   "codemirror_mode": {
    "name": "ipython",
    "version": 3
   },
   "file_extension": ".py",
   "mimetype": "text/x-python",
   "name": "python",
   "nbconvert_exporter": "python",
   "pygments_lexer": "ipython3",
   "version": "3.6.9"
  }
 },
 "nbformat": 4,
 "nbformat_minor": 4
}
