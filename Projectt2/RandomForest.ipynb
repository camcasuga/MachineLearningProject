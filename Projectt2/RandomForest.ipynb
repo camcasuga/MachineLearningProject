{
 "cells": [
  {
   "cell_type": "markdown",
   "metadata": {},
   "source": [
    "# Random Forest Analysis"
   ]
  },
  {
   "cell_type": "markdown",
   "metadata": {},
   "source": [
    "In this notebook, we perform several Random Forest analysis using different modifications of the Higgs chalange dataset"
   ]
  },
  {
   "cell_type": "code",
   "execution_count": 45,
   "metadata": {},
   "outputs": [],
   "source": [
    "import matplotlib.pyplot as plt\n",
    "import numpy as np\n",
    "import pandas as pd\n",
    "from sklearn.model_selection import  train_test_split \n",
    "from sklearn.datasets import load_breast_cancer\n",
    "from sklearn.svm import SVC\n",
    "from sklearn.linear_model import LogisticRegression\n",
    "from sklearn.tree import DecisionTreeClassifier\n",
    "from sklearn.ensemble import BaggingClassifier\n",
    "from sklearn.preprocessing import StandardScaler\n",
    "from sklearn.metrics import confusion_matrix\n",
    "\n",
    "import scikitplot as skplt\n",
    "import seaborn as sns\n",
    "\n",
    "\n",
    "from sklearn.ensemble import RandomForestClassifier\n",
    "from sklearn.preprocessing import LabelEncoder\n",
    "from sklearn.model_selection import cross_validate\n",
    "\n",
    "#import tensorflow as tf\n",
    "#from tensorflow import keras"
   ]
  },
  {
   "cell_type": "code",
   "execution_count": 3,
   "metadata": {
    "scrolled": true
   },
   "outputs": [],
   "source": [
    "# Load the data\n",
    "data=pd.read_csv('C:/Users/luisg/OneDrive/Escritorio/Nucphys/ML course/project2/atlas-higgs-challenge-2014-v2.csv')\n",
    "nan_data=pd.read_csv('C:/Users/luisg/OneDrive/Escritorio/Nucphys/ML course/project2/nan_data.csv')\n",
    "mf_data=pd.read_csv('C:/Users/luisg/OneDrive/Escritorio/Nucphys/ML course/project2/most_frequent_data.csv')\n",
    "mean_data=pd.read_csv('C:/Users/luisg/OneDrive/Escritorio/Nucphys/ML course/project2/mean_data.csv')\n",
    "zero_data=pd.read_csv('C:/Users/luisg/OneDrive/Escritorio/Nucphys/ML course/project2/zero_data.csv')"
   ]
  },
  {
   "cell_type": "markdown",
   "metadata": {},
   "source": [
    "Many of the features are not physical in nature but are related to the Kaggle database. These must be dropped."
   ]
  },
  {
   "cell_type": "code",
   "execution_count": 4,
   "metadata": {},
   "outputs": [],
   "source": [
    "data=data.drop(['EventId','KaggleWeight','Weight'],axis=1)              #Dropping spoureous and unphysical variables\n",
    "nan_data=nan_data.drop(['Unnamed: 0','EventId','KaggleWeight','Weight'],axis=1)\n",
    "mf_data=mf_data.drop(['EventId','KaggleWeight','Weight'],axis=1)\n",
    "mean_data=mean_data.drop(['EventId','KaggleWeight','Weight'],axis=1)\n",
    "zero_data=zero_data.drop(['EventId','KaggleWeight','Weight'],axis=1)"
   ]
  },
  {
   "cell_type": "markdown",
   "metadata": {},
   "source": [
    "## Warning!\n",
    "\n",
    "Scikit-learn data do not support nan values. There are several strategies to folow. First, we'll just remove every row that contains a nan"
   ]
  },
  {
   "cell_type": "code",
   "execution_count": 6,
   "metadata": {},
   "outputs": [
    {
     "name": "stdout",
     "output_type": "stream",
     "text": [
      "The number of entries was reduced from 465235 to 126865\n"
     ]
    }
   ],
   "source": [
    "before=nan_data.shape[0]\n",
    "nan_data=nan_data.dropna()\n",
    "after=nan_data.shape[0]\n",
    "\n",
    "print('The number of entries was reduced from',before,'to',after)"
   ]
  },
  {
   "cell_type": "markdown",
   "metadata": {},
   "source": [
    "The challenge data include a label already classifying the events as part of the train and the test data. In this analysis,we are using them as such."
   ]
  },
  {
   "cell_type": "code",
   "execution_count": 5,
   "metadata": {},
   "outputs": [],
   "source": [
    "#data_train=nan_data.loc[nan_data['KaggleSet']=='t'] #train-test split as default\n",
    "#data_test=nan_data.loc[nan_data['KaggleSet']=='b']\n",
    "mf_data_train=mf_data.loc[mf_data['KaggleSet']=='t'] \n",
    "mf_data_test=mf_data.loc[mf_data['KaggleSet']=='b']\n",
    "mean_data_train=mean_data.loc[mf_data['KaggleSet']=='t'] \n",
    "mean_data_test=mean_data.loc[mf_data['KaggleSet']=='b']\n",
    "zero_data_train=mean_data.loc[mf_data['KaggleSet']=='t'] \n",
    "zero_data_test=mean_data.loc[mf_data['KaggleSet']=='b']"
   ]
  },
  {
   "cell_type": "code",
   "execution_count": 6,
   "metadata": {},
   "outputs": [],
   "source": [
    "mf_X_train=np.array(mf_data_train.drop(['Label','KaggleSet'],axis=1)) #Defining features\n",
    "mf_y_str_train=np.array(mf_data_train['Label'])\n",
    "\n",
    "mf_X_test=np.array(mf_data_test.drop(['Label','KaggleSet'],axis=1)) #Defining features\n",
    "mf_y_str_test=np.array(mf_data_test['Label'])\n",
    "\n",
    "mean_X_train=np.array(mean_data_train.drop(['Label','KaggleSet'],axis=1)) #Defining features\n",
    "mean_y_str_train=np.array(mean_data_train['Label'])\n",
    "\n",
    "mean_X_test=np.array(mean_data_test.drop(['Label','KaggleSet'],axis=1)) #Defining features\n",
    "mean_y_str_test=np.array(mean_data_test['Label'])\n",
    "\n",
    "zero_X_train=np.array(zero_data_train.drop(['Label','KaggleSet'],axis=1)) #Defining features\n",
    "zero_y_str_train=np.array(zero_data_train['Label'])\n",
    "\n",
    "zero_X_test=np.array(zero_data_test.drop(['Label','KaggleSet'],axis=1)) #Defining features\n",
    "zero_y_str_test=np.array(zero_data_test['Label'])\n"
   ]
  },
  {
   "cell_type": "markdown",
   "metadata": {},
   "source": [
    "The background 'b' and signal 's' labels must be changed to boolean values so they can be read by the random forest function"
   ]
  },
  {
   "cell_type": "code",
   "execution_count": 7,
   "metadata": {},
   "outputs": [],
   "source": [
    "def bs_bool(x): # This function changes b and s by boolean values so they can be read by the random forest function\n",
    "    y=np.zeros(len(x))\n",
    "    for i in range(len(x)):\n",
    "        if x[i]=='s':\n",
    "            y[i]=1\n",
    "        else:\n",
    "            y[i]=0\n",
    "    return y"
   ]
  },
  {
   "cell_type": "code",
   "execution_count": 8,
   "metadata": {},
   "outputs": [],
   "source": [
    "mf_y_train=bs_bool(mf_y_str_train)  #Turning to boolean values\n",
    "mf_y_test=bs_bool(mf_y_str_test)\n",
    "\n",
    "mean_y_train=bs_bool(mean_y_str_train)  #Turning to boolean values\n",
    "mean_y_test=bs_bool(mean_y_str_test)\n",
    "\n",
    "zero_y_train=bs_bool(zero_y_str_train)  #Turning to boolean values\n",
    "zero_y_test=bs_bool(zero_y_str_test)"
   ]
  },
  {
   "cell_type": "markdown",
   "metadata": {},
   "source": [
    "The data are scalled to improve the accuracy "
   ]
  },
  {
   "cell_type": "code",
   "execution_count": 9,
   "metadata": {},
   "outputs": [],
   "source": [
    "scaler = StandardScaler()    #Scaling data\n",
    "scaler.fit(mf_X_train)\n",
    "mf_X_train_sc = scaler.transform(mf_X_train)\n",
    "mf_X_test_sc=scaler.transform(mf_X_test)\n",
    "\n",
    "scaler = StandardScaler()    #Scaling data\n",
    "scaler.fit(mean_X_train)\n",
    "mean_X_train_sc = scaler.transform(mean_X_train)\n",
    "mean_X_test_sc=scaler.transform(mean_X_test)\n",
    "\n",
    "scaler = StandardScaler()    #Scaling data\n",
    "scaler.fit(zero_X_train)\n",
    "zero_X_train_sc = scaler.transform(zero_X_train)\n",
    "zero_X_test_sc=scaler.transform(zero_X_test)"
   ]
  },
  {
   "cell_type": "markdown",
   "metadata": {},
   "source": [
    "## Checking the ideal number of trees\n",
    "\n",
    "Random forests for different number of trees. \n"
   ]
  },
  {
   "cell_type": "code",
   "execution_count": 10,
   "metadata": {},
   "outputs": [],
   "source": [
    "n=np.arange(5,505,50).tolist()\n",
    "x=np.zeros(len(n))\n",
    "y=np.zeros(len(n))\n",
    "a=0\n",
    "for i in n:\n",
    "    Random_Forest_model = RandomForestClassifier(n_estimators=i,criterion=\"entropy\")\n",
    "    Random_Forest_model.fit(X_train_sc, y_train)\n",
    "    x[a]=i\n",
    "    y[a]=Random_Forest_model.score(X_test_sc,y_test)\n",
    "    a=a+1\n",
    "\n",
    "n=np.arange(5,505,50).tolist()\n",
    "x0=np.zeros(len(n))\n",
    "y0=np.zeros(len(n))\n",
    "a=0\n",
    "for i in n:\n",
    "    Random_Forest_model = RandomForestClassifier(n_estimators=i,criterion=\"gini\")\n",
    "    Random_Forest_model.fit(X_train_sc, y_train)\n",
    "    x0[a]=i\n",
    "    y0[a]=Random_Forest_model.score(X_test_sc,y_test)\n",
    "    a=a+1\n"
   ]
  },
  {
   "cell_type": "code",
   "execution_count": 32,
   "metadata": {},
   "outputs": [
    {
     "data": {
      "text/plain": [
       "Text(0, 0.5, 'Accuracy score')"
      ]
     },
     "execution_count": 32,
     "metadata": {},
     "output_type": "execute_result"
    },
    {
     "data": {
      "image/png": "[encoded data removed]",
      "text/plain": [
       "<Figure size 432x288 with 1 Axes>"
      ]
     },
     "metadata": {
      "needs_background": "light"
     },
     "output_type": "display_data"
    }
   ],
   "source": [
    "lonelyx=np.array([5])\n",
    "newx=np.append(lonelyx,x)\n",
    "\n",
    "lonelyy=np.array([score0])\n",
    "newy=np.append(lonelyy,y)\n",
    "newy\n",
    "\n",
    "plt.plot(newx,newy,'ro-',label='Entropy')\n",
    "plt.plot(x0,y0,'bo-',label='Gini')\n",
    "\n",
    "\n",
    "plt.legend()\n",
    "plt.xlabel('Number of trees')\n",
    "plt.ylabel('Accuracy score')"
   ]
  },
  {
   "cell_type": "markdown",
   "metadata": {},
   "source": [
    "## Comparing the different datasets\n",
    "\n",
    "Random forests are performed using the data substituting the -999 values with zeros, the most frequent data and the mean value of its corresponding colummn "
   ]
  },
  {
   "cell_type": "code",
   "execution_count": 28,
   "metadata": {},
   "outputs": [
    {
     "name": "stdout",
     "output_type": "stream",
     "text": [
      "Test set accuracy with Random forest, mf and scaled data: 0.83039 and train set accuracy0.83885\n",
      "Test set accuracy with Random forest, mean and scaled data: 0.82768 and train set accuracy:0.83622\n",
      "Test set accuracy with Random forest, zero and scaled data: 0.82790 and train set accuracy:0.83623\n"
     ]
    }
   ],
   "source": [
    "Random_Forest_model = RandomForestClassifier(n_estimators=200,criterion=\"entropy\",max_depth=10)\n",
    "Random_Forest_model.fit(mf_X_train_sc, mf_y_train)\n",
    "print(\"Test set accuracy with Random forest, mf and scaled data: {:.5f}\".format(Random_Forest_model.score(mf_X_test_sc,mf_y_test)), 'and train set accuracy{:.5f}'.format(Random_Forest_model.score(mf_X_train_sc,mf_y_train)))\n",
    "\n",
    "Random_Forest_model = RandomForestClassifier(n_estimators=200,criterion=\"entropy\",max_depth=10)\n",
    "Random_Forest_model.fit(mean_X_train_sc, mean_y_train)\n",
    "print(\"Test set accuracy with Random forest, mean and scaled data: {:.5f}\".format(Random_Forest_model.score(mean_X_test_sc,mean_y_test)),'and train set accuracy:{:.5f}'.format(Random_Forest_model.score(mean_X_train_sc,mean_y_train)))\n",
    "\n",
    "Random_Forest_model = RandomForestClassifier(n_estimators=200,criterion=\"entropy\",max_depth=10)\n",
    "Random_Forest_model.fit(zero_X_train_sc, zero_y_train)\n",
    "print(\"Test set accuracy with Random forest, zero and scaled data: {:.5f}\".format(Random_Forest_model.score(zero_X_test_sc,zero_y_test)),'and train set accuracy:{:.5f}'.format(Random_Forest_model.score(zero_X_train_sc,zero_y_train)))"
   ]
  },
  {
   "cell_type": "markdown",
   "metadata": {},
   "source": [
    "## Checking the ideal number of trees\n",
    "\n",
    "Using the \"zero\" dataset, the train and test accuracy are compared for different maximun trees depth"
   ]
  },
  {
   "cell_type": "code",
   "execution_count": 69,
   "metadata": {},
   "outputs": [],
   "source": [
    "n=25\n",
    "depth=np.zeros(n)\n",
    "train=np.zeros(n)\n",
    "test=np.zeros(n)\n",
    "\n",
    "for i in range(1,n):\n",
    "    Random_Forest_model = RandomForestClassifier(n_estimators=100,criterion=\"entropy\",max_depth=i)\n",
    "    Random_Forest_model.fit(zero_X_train_sc, zero_y_train)\n",
    "    depth[i]=i\n",
    "    test[i]=Random_Forest_model.score(zero_X_test_sc,zero_y_test)\n",
    "    train[i]=Random_Forest_model.score(zero_X_train_sc,zero_y_train)\n",
    "    "
   ]
  },
  {
   "cell_type": "code",
   "execution_count": 75,
   "metadata": {},
   "outputs": [
    {
     "data": {
      "text/plain": [
       "Text(0, 0.5, 'Accuracy score')"
      ]
     },
     "execution_count": 75,
     "metadata": {},
     "output_type": "execute_result"
    },
    {
     "data": {
      "image/png": "[encoded data removed]",
      "text/plain": [
       "<Figure size 432x288 with 1 Axes>"
      ]
     },
     "metadata": {
      "needs_background": "light"
     },
     "output_type": "display_data"
    }
   ],
   "source": [
    "plt.plot(depth,test,label='Test data')\n",
    "plt.plot(depth,train,label='Train data')\n",
    "plt.legend()\n",
    "plt.xlabel('Tree depth')\n",
    "plt.ylabel('Accuracy score')"
   ]
  },
  {
   "cell_type": "markdown",
   "metadata": {},
   "source": [
    "## Comparing for different number of jets\n",
    "\n",
    "Random forests are performed separately for events with 0, 1, 2 and 3 jets"
   ]
  },
  {
   "cell_type": "code",
   "execution_count": 29,
   "metadata": {},
   "outputs": [],
   "source": [
    "X_j0_train=np.array(zero_data_train[zero_data_train['PRI_jet_num']==0].drop(['Label','KaggleSet','PRI_jet_num'],axis=1))\n",
    "y_j0_train=bs_bool(np.array(zero_data_train[zero_data_train['PRI_jet_num']==0]['Label']))\n",
    "X_j0_test=np.array(zero_data_test[zero_data_test['PRI_jet_num']==0].drop(['Label','KaggleSet','PRI_jet_num'],axis=1))\n",
    "y_j0_test=bs_bool(np.array(zero_data_test[zero_data_test['PRI_jet_num']==0]['Label']))\n",
    "\n",
    "X_j1_train=np.array(zero_data_train[zero_data_train['PRI_jet_num']==1].drop(['Label','KaggleSet','PRI_jet_num'],axis=1))\n",
    "y_j1_train=bs_bool(np.array(zero_data_train[zero_data_train['PRI_jet_num']==1]['Label']))\n",
    "X_j1_test=np.array(zero_data_test[zero_data_test['PRI_jet_num']==1].drop(['Label','KaggleSet','PRI_jet_num'],axis=1))\n",
    "y_j1_test=bs_bool(np.array(zero_data_test[zero_data_test['PRI_jet_num']==1]['Label']))\n",
    "\n",
    "\n",
    "\n",
    "X_j2_train=np.array(zero_data_train[zero_data_train['PRI_jet_num']==2].drop(['Label','KaggleSet','PRI_jet_num'],axis=1))\n",
    "y_j2_train=bs_bool(np.array(zero_data_train[zero_data_train['PRI_jet_num']==2]['Label']))\n",
    "X_j2_test=np.array(zero_data_test[zero_data_test['PRI_jet_num']==2].drop(['Label','KaggleSet','PRI_jet_num'],axis=1))\n",
    "y_j2_test=bs_bool(np.array(zero_data_test[zero_data_test['PRI_jet_num']==2]['Label']))\n",
    "\n",
    "X_j3_train=np.array(zero_data_train[zero_data_train['PRI_jet_num']==3].drop(['Label','KaggleSet','PRI_jet_num'],axis=1))\n",
    "y_j3_train=bs_bool(np.array(zero_data_train[zero_data_train['PRI_jet_num']==3]['Label']))\n",
    "X_j3_test=np.array(zero_data_test[zero_data_test['PRI_jet_num']==3].drop(['Label','KaggleSet','PRI_jet_num'],axis=1))\n",
    "y_j3_test=bs_bool(np.array(zero_data_test[zero_data_test['PRI_jet_num']==3]['Label']))\n"
   ]
  },
  {
   "cell_type": "code",
   "execution_count": 30,
   "metadata": {},
   "outputs": [
    {
     "name": "stdout",
     "output_type": "stream",
     "text": [
      "Test set accuracy with j0: 0.84588 and train set accuracy: 0.85990\n",
      "Test set accuracy with j1: 0.80627 and train set accuracy: 0.82339\n",
      "Test set accuracy with j2: 0.84412 and train set accuracy: 0.86961\n",
      "Test set accuracy with j3: 0.84146 and train set accurac 0.88396\n"
     ]
    }
   ],
   "source": [
    "Random_Forest_model = RandomForestClassifier(n_estimators=100,criterion=\"entropy\",max_depth=10)\n",
    "Random_Forest_model.fit(X_j0_train, y_j0_train)\n",
    "print(\"Test set accuracy with j0: {:.5f}\".format(Random_Forest_model.score(X_j0_test, y_j0_test)),'and train set accuracy: {:.5f}'.format(Random_Forest_model.score(X_j0_train, y_j0_train)))\n",
    "\n",
    "Random_Forest_model = RandomForestClassifier(n_estimators=100,criterion=\"entropy\",max_depth=10)\n",
    "Random_Forest_model.fit(X_j1_train, y_j1_train)\n",
    "print(\"Test set accuracy with j1: {:.5f}\".format(Random_Forest_model.score(X_j1_test, y_j1_test)),'and train set accuracy: {:.5f}'.format(Random_Forest_model.score(X_j1_train, y_j1_train)))\n",
    "\n",
    "Random_Forest_model = RandomForestClassifier(n_estimators=100,criterion=\"entropy\",max_depth=10)\n",
    "Random_Forest_model.fit(X_j2_train, y_j2_train)\n",
    "print(\"Test set accuracy with j2: {:.5f}\".format(Random_Forest_model.score(X_j2_test, y_j2_test)),'and train set accuracy: {:.5f}'.format(Random_Forest_model.score(X_j2_train, y_j2_train)))\n",
    "\n",
    "Random_Forest_model = RandomForestClassifier(n_estimators=100,criterion=\"entropy\",max_depth=10)\n",
    "Random_Forest_model.fit(X_j3_train, y_j3_train)\n",
    "print(\"Test set accuracy with j3: {:.5f}\".format(Random_Forest_model.score(X_j3_test, y_j3_test)),'and train set accurac {:.5f}'.format(Random_Forest_model.score(X_j3_train, y_j3_train)))\n"
   ]
  },
  {
   "cell_type": "markdown",
   "metadata": {},
   "source": [
    "## Confusion matrix\n",
    "\n",
    "We plot the confusion matrix for the 'zero data'"
   ]
  },
  {
   "cell_type": "code",
   "execution_count": 58,
   "metadata": {},
   "outputs": [
    {
     "data": {
      "text/plain": [
       "RandomForestClassifier(criterion='entropy', n_estimators=200)"
      ]
     },
     "execution_count": 58,
     "metadata": {},
     "output_type": "execute_result"
    }
   ],
   "source": [
    "Random_Forest_model = RandomForestClassifier(n_estimators=200,criterion=\"entropy\")\n",
    "Random_Forest_model.fit(X_j3_train, y_j3_train)\n"
   ]
  },
  {
   "cell_type": "code",
   "execution_count": 59,
   "metadata": {},
   "outputs": [],
   "source": [
    "y_pred = Random_Forest_model.predict(X_j3_test)"
   ]
  },
  {
   "cell_type": "code",
   "execution_count": 60,
   "metadata": {},
   "outputs": [
    {
     "data": {
      "text/plain": [
       "<AxesSubplot:>"
      ]
     },
     "execution_count": 60,
     "metadata": {},
     "output_type": "execute_result"
    },
    {
     "data": {
      "image/png": "[encoded data removed]",
      "text/plain": [
       "<Figure size 720x576 with 2 Axes>"
      ]
     },
     "metadata": {},
     "output_type": "display_data"
    }
   ],
   "source": [
    "\n",
    "confmat = confusion_matrix(y_j3_test, y_pred, labels = [1,0], normalize='true')\n",
    "\n",
    "cm = pd.DataFrame(confmat,\n",
    "                  index = ['signal (true)' , 'background (true)'], \n",
    "                  columns = ['signal (model)', ' background (model)'])\n",
    "plt.figure(figsize=[10,8])\n",
    "\n",
    "sns.set(font_scale=1.2)\n",
    "sns.heatmap(cm, cmap='Greens', linecolor = 'black', annot = True, fmt='.3f')\n"
   ]
  },
  {
   "cell_type": "code",
   "execution_count": null,
   "metadata": {},
   "outputs": [],
   "source": []
  }
 ],
 "metadata": {
  "kernelspec": {
   "display_name": "Python 3",
   "language": "python",
   "name": "python3"
  },
  "language_info": {
   "codemirror_mode": {
    "name": "ipython",
    "version": 3
   },
   "file_extension": ".py",
   "mimetype": "text/x-python",
   "name": "python",
   "nbconvert_exporter": "python",
   "pygments_lexer": "ipython3",
   "version": "3.8.5"
  }
 },
 "nbformat": 4,
 "nbformat_minor": 5
}
