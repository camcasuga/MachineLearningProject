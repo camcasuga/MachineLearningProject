{
 "cells": [
  {
   "cell_type": "code",
   "execution_count": 1,
   "metadata": {},
   "outputs": [
    {
     "name": "stderr",
     "output_type": "stream",
     "text": [
      "/home/carlisle/.local/lib/python3.6/site-packages/sklearn/externals/six.py:31: DeprecationWarning: The module is deprecated in version 0.21 and will be removed in version 0.23 since we've dropped support for Python 2.7. Please rely on the official version of six (https://pypi.org/project/six/).\n",
      "  \"(https://pypi.org/project/six/).\", DeprecationWarning)\n"
     ]
    }
   ],
   "source": [
    "import pandas as pd\n",
    "import matplotlib.pyplot as plt\n",
    "import numpy as np\n",
    "from sklearn import tree\n",
    "from sklearn.tree import DecisionTreeClassifier\n",
    "from sklearn.preprocessing import StandardScaler, MinMaxScaler, PolynomialFeatures\n",
    "from sklearn.model_selection import train_test_split, KFold, cross_val_score, cross_val_predict, GridSearchCV\n",
    "from sklearn.linear_model import LogisticRegression\n",
    "from sklearn.metrics import accuracy_score, confusion_matrix\n",
    "from sklearn.tree import export_graphviz\n",
    "from sklearn.externals.six import StringIO  \n",
    "from IPython.display import Image \n",
    "import seaborn as sns\n",
    "#import pydotplus"
   ]
  },
  {
   "cell_type": "markdown",
   "metadata": {},
   "source": [
    "# Simple DecisionTreeClassifier() fitting"
   ]
  },
  {
   "cell_type": "code",
   "execution_count": 10,
   "metadata": {},
   "outputs": [],
   "source": [
    "# dataset\n",
    "higgs = pd.read_csv('mean_data.csv') #choose between mean_data.csv\n",
    "\n",
    "# divide by test and train\n",
    "train = higgs[higgs['KaggleSet'] == 't' ]\n",
    "test = higgs[higgs['KaggleSet'] == 'b' ]\n",
    "data = pd.concat((train,test))\n",
    "y_train = train['Label']\n",
    "y_test = test['Label']"
   ]
  },
  {
   "cell_type": "code",
   "execution_count": 11,
   "metadata": {},
   "outputs": [
    {
     "name": "stdout",
     "output_type": "stream",
     "text": [
      "Accuracy score of simple DecisionTree Classifier: 0.743892\n",
      "Tree Score on test data: 0.74305\n"
     ]
    }
   ],
   "source": [
    "## selecting features\n",
    "\n",
    "# todrop = ['DER_sum_pt', 'DER_deltaeta_jet_jet', 'DER_mass_jet_jet', 'DER_lep_eta_centrality', 'PRI_met_sumet', 'PRI_jet_leading_pt', 'PRI_jet_subleading_pt','Weight','Label','KaggleSet','KaggleWeight', 'PRI_jet_num', 'PRI_jet_leading_phi', 'PRI_jet_subleading_phi', 'PRI_met_phi', 'PRI_lep_phi', 'PRI_tau_phi' ]\n",
    "todrop = ['Weight','Label','KaggleSet','KaggleWeight']\n",
    "X_train = train.drop(todrop, axis = 1).set_index('EventId')\n",
    "X_test = test.drop(todrop, axis = 1).set_index('EventId')\n",
    "\n",
    "#feats = ['DER_mass_MMC' , 'DER_mass_transverse_met_lep', 'DER_mass_vis']\n",
    "#X_train = train[feats]\n",
    "#X_test = test[feats]\n",
    "\n",
    "# scaling\n",
    "scaler = StandardScaler() #MinMaxScaler\n",
    "X_train_scaled = scaler.fit_transform(X_train)\n",
    "X_test_scaled = scaler.transform(X_test)\n",
    "X_train_scaled[:,0] = 1\n",
    "X_test_scaled[:,0] = 1\n",
    "\n",
    "## polynomial features\n",
    "# only use for limited features\n",
    "\n",
    "## model building \n",
    "model = DecisionTreeClassifier(random_state = 10, criterion = 'gini', max_depth = 2, splitter = 'best')\n",
    "model.fit(X_train_scaled, y_train)\n",
    "y_pred = model.predict(X_train_scaled)\n",
    "\n",
    "print('Accuracy score of simple DecisionTree Classifier:', accuracy_score(y_train, y_pred))\n",
    "print('Tree Score on test data:', model.score(X_test_scaled,y_test))"
   ]
  },
  {
   "cell_type": "markdown",
   "metadata": {},
   "source": [
    "## Drawing the tree"
   ]
  },
  {
   "cell_type": "code",
   "execution_count": 12,
   "metadata": {
    "scrolled": true
   },
   "outputs": [
    {
     "name": "stdout",
     "output_type": "stream",
     "text": [
      "Accuracy score of simple DecisionTree Classifier: (test) 0.74305\n",
      "Tree Score on train data: 0.743892\n"
     ]
    }
   ],
   "source": [
    "y_pred_test = model.predict(X_test_scaled)\n",
    "print('Accuracy score of simple DecisionTree Classifier: (test)', accuracy_score(y_test, y_pred_test))\n",
    "print('Tree Score on train data:', model.score(X_train_scaled,y_train))"
   ]
  },
  {
   "cell_type": "code",
   "execution_count": 13,
   "metadata": {
    "scrolled": true
   },
   "outputs": [
    {
     "data": {
      "text/html": [
       "<div>\n",
       "<style scoped>\n",
       "    .dataframe tbody tr th:only-of-type {\n",
       "        vertical-align: middle;\n",
       "    }\n",
       "\n",
       "    .dataframe tbody tr th {\n",
       "        vertical-align: top;\n",
       "    }\n",
       "\n",
       "    .dataframe thead th {\n",
       "        text-align: right;\n",
       "    }\n",
       "</style>\n",
       "<table border=\"1\" class=\"dataframe\">\n",
       "  <thead>\n",
       "    <tr style=\"text-align: right;\">\n",
       "      <th></th>\n",
       "      <th>DER_mass_MMC</th>\n",
       "      <th>DER_mass_transverse_met_lep</th>\n",
       "      <th>DER_mass_vis</th>\n",
       "      <th>DER_pt_h</th>\n",
       "      <th>DER_deltaeta_jet_jet</th>\n",
       "      <th>DER_mass_jet_jet</th>\n",
       "      <th>DER_prodeta_jet_jet</th>\n",
       "      <th>DER_deltar_tau_lep</th>\n",
       "      <th>DER_pt_tot</th>\n",
       "      <th>DER_sum_pt</th>\n",
       "      <th>...</th>\n",
       "      <th>PRI_met_phi</th>\n",
       "      <th>PRI_met_sumet</th>\n",
       "      <th>PRI_jet_num</th>\n",
       "      <th>PRI_jet_leading_pt</th>\n",
       "      <th>PRI_jet_leading_eta</th>\n",
       "      <th>PRI_jet_leading_phi</th>\n",
       "      <th>PRI_jet_subleading_pt</th>\n",
       "      <th>PRI_jet_subleading_eta</th>\n",
       "      <th>PRI_jet_subleading_phi</th>\n",
       "      <th>PRI_jet_all_pt</th>\n",
       "    </tr>\n",
       "    <tr>\n",
       "      <th>EventId</th>\n",
       "      <th></th>\n",
       "      <th></th>\n",
       "      <th></th>\n",
       "      <th></th>\n",
       "      <th></th>\n",
       "      <th></th>\n",
       "      <th></th>\n",
       "      <th></th>\n",
       "      <th></th>\n",
       "      <th></th>\n",
       "      <th></th>\n",
       "      <th></th>\n",
       "      <th></th>\n",
       "      <th></th>\n",
       "      <th></th>\n",
       "      <th></th>\n",
       "      <th></th>\n",
       "      <th></th>\n",
       "      <th></th>\n",
       "      <th></th>\n",
       "      <th></th>\n",
       "    </tr>\n",
       "  </thead>\n",
       "  <tbody>\n",
       "    <tr>\n",
       "      <th>100000</th>\n",
       "      <td>138.470000</td>\n",
       "      <td>51.655</td>\n",
       "      <td>97.827</td>\n",
       "      <td>27.980</td>\n",
       "      <td>0.910000</td>\n",
       "      <td>124.71100</td>\n",
       "      <td>2.66600</td>\n",
       "      <td>3.064</td>\n",
       "      <td>41.928</td>\n",
       "      <td>197.760</td>\n",
       "      <td>...</td>\n",
       "      <td>-0.277</td>\n",
       "      <td>258.733</td>\n",
       "      <td>2</td>\n",
       "      <td>67.435000</td>\n",
       "      <td>2.150000</td>\n",
       "      <td>0.444000</td>\n",
       "      <td>46.062000</td>\n",
       "      <td>1.240000</td>\n",
       "      <td>-2.47500</td>\n",
       "      <td>113.497</td>\n",
       "    </tr>\n",
       "    <tr>\n",
       "      <th>100001</th>\n",
       "      <td>160.937000</td>\n",
       "      <td>68.768</td>\n",
       "      <td>103.235</td>\n",
       "      <td>48.146</td>\n",
       "      <td>2.404626</td>\n",
       "      <td>372.18105</td>\n",
       "      <td>-0.82874</td>\n",
       "      <td>3.473</td>\n",
       "      <td>2.078</td>\n",
       "      <td>125.157</td>\n",
       "      <td>...</td>\n",
       "      <td>-1.916</td>\n",
       "      <td>164.546</td>\n",
       "      <td>1</td>\n",
       "      <td>46.226000</td>\n",
       "      <td>0.725000</td>\n",
       "      <td>1.158000</td>\n",
       "      <td>57.810286</td>\n",
       "      <td>-0.006669</td>\n",
       "      <td>-0.01047</td>\n",
       "      <td>46.226</td>\n",
       "    </tr>\n",
       "    <tr>\n",
       "      <th>100002</th>\n",
       "      <td>121.867697</td>\n",
       "      <td>162.172</td>\n",
       "      <td>125.953</td>\n",
       "      <td>35.635</td>\n",
       "      <td>2.404626</td>\n",
       "      <td>372.18105</td>\n",
       "      <td>-0.82874</td>\n",
       "      <td>3.148</td>\n",
       "      <td>9.336</td>\n",
       "      <td>197.814</td>\n",
       "      <td>...</td>\n",
       "      <td>-2.186</td>\n",
       "      <td>260.414</td>\n",
       "      <td>1</td>\n",
       "      <td>44.251000</td>\n",
       "      <td>2.053000</td>\n",
       "      <td>-2.028000</td>\n",
       "      <td>57.810286</td>\n",
       "      <td>-0.006669</td>\n",
       "      <td>-0.01047</td>\n",
       "      <td>44.251</td>\n",
       "    </tr>\n",
       "    <tr>\n",
       "      <th>100003</th>\n",
       "      <td>143.905000</td>\n",
       "      <td>81.417</td>\n",
       "      <td>80.943</td>\n",
       "      <td>0.414</td>\n",
       "      <td>2.404626</td>\n",
       "      <td>372.18105</td>\n",
       "      <td>-0.82874</td>\n",
       "      <td>3.310</td>\n",
       "      <td>0.414</td>\n",
       "      <td>75.968</td>\n",
       "      <td>...</td>\n",
       "      <td>0.060</td>\n",
       "      <td>86.062</td>\n",
       "      <td>0</td>\n",
       "      <td>84.904285</td>\n",
       "      <td>-0.001248</td>\n",
       "      <td>-0.018856</td>\n",
       "      <td>57.810286</td>\n",
       "      <td>-0.006669</td>\n",
       "      <td>-0.01047</td>\n",
       "      <td>-0.000</td>\n",
       "    </tr>\n",
       "    <tr>\n",
       "      <th>100004</th>\n",
       "      <td>175.864000</td>\n",
       "      <td>16.915</td>\n",
       "      <td>134.805</td>\n",
       "      <td>16.405</td>\n",
       "      <td>2.404626</td>\n",
       "      <td>372.18105</td>\n",
       "      <td>-0.82874</td>\n",
       "      <td>3.891</td>\n",
       "      <td>16.405</td>\n",
       "      <td>57.983</td>\n",
       "      <td>...</td>\n",
       "      <td>-0.871</td>\n",
       "      <td>53.131</td>\n",
       "      <td>0</td>\n",
       "      <td>84.904285</td>\n",
       "      <td>-0.001248</td>\n",
       "      <td>-0.018856</td>\n",
       "      <td>57.810286</td>\n",
       "      <td>-0.006669</td>\n",
       "      <td>-0.01047</td>\n",
       "      <td>0.000</td>\n",
       "    </tr>\n",
       "  </tbody>\n",
       "</table>\n",
       "<p>5 rows × 30 columns</p>\n",
       "</div>"
      ],
      "text/plain": [
       "         DER_mass_MMC  DER_mass_transverse_met_lep  DER_mass_vis  DER_pt_h  \\\n",
       "EventId                                                                      \n",
       "100000     138.470000                       51.655        97.827    27.980   \n",
       "100001     160.937000                       68.768       103.235    48.146   \n",
       "100002     121.867697                      162.172       125.953    35.635   \n",
       "100003     143.905000                       81.417        80.943     0.414   \n",
       "100004     175.864000                       16.915       134.805    16.405   \n",
       "\n",
       "         DER_deltaeta_jet_jet  DER_mass_jet_jet  DER_prodeta_jet_jet  \\\n",
       "EventId                                                                \n",
       "100000               0.910000         124.71100              2.66600   \n",
       "100001               2.404626         372.18105             -0.82874   \n",
       "100002               2.404626         372.18105             -0.82874   \n",
       "100003               2.404626         372.18105             -0.82874   \n",
       "100004               2.404626         372.18105             -0.82874   \n",
       "\n",
       "         DER_deltar_tau_lep  DER_pt_tot  DER_sum_pt  ...  PRI_met_phi  \\\n",
       "EventId                                              ...                \n",
       "100000                3.064      41.928     197.760  ...       -0.277   \n",
       "100001                3.473       2.078     125.157  ...       -1.916   \n",
       "100002                3.148       9.336     197.814  ...       -2.186   \n",
       "100003                3.310       0.414      75.968  ...        0.060   \n",
       "100004                3.891      16.405      57.983  ...       -0.871   \n",
       "\n",
       "         PRI_met_sumet  PRI_jet_num  PRI_jet_leading_pt  PRI_jet_leading_eta  \\\n",
       "EventId                                                                        \n",
       "100000         258.733            2           67.435000             2.150000   \n",
       "100001         164.546            1           46.226000             0.725000   \n",
       "100002         260.414            1           44.251000             2.053000   \n",
       "100003          86.062            0           84.904285            -0.001248   \n",
       "100004          53.131            0           84.904285            -0.001248   \n",
       "\n",
       "         PRI_jet_leading_phi  PRI_jet_subleading_pt  PRI_jet_subleading_eta  \\\n",
       "EventId                                                                       \n",
       "100000              0.444000              46.062000                1.240000   \n",
       "100001              1.158000              57.810286               -0.006669   \n",
       "100002             -2.028000              57.810286               -0.006669   \n",
       "100003             -0.018856              57.810286               -0.006669   \n",
       "100004             -0.018856              57.810286               -0.006669   \n",
       "\n",
       "         PRI_jet_subleading_phi  PRI_jet_all_pt  \n",
       "EventId                                          \n",
       "100000                 -2.47500         113.497  \n",
       "100001                 -0.01047          46.226  \n",
       "100002                 -0.01047          44.251  \n",
       "100003                 -0.01047          -0.000  \n",
       "100004                 -0.01047           0.000  \n",
       "\n",
       "[5 rows x 30 columns]"
      ]
     },
     "execution_count": 13,
     "metadata": {},
     "output_type": "execute_result"
    }
   ],
   "source": [
    "X_train.head()"
   ]
  },
  {
   "cell_type": "markdown",
   "metadata": {},
   "source": [
    "### A tree of max_depth = 2"
   ]
  },
  {
   "cell_type": "code",
   "execution_count": 15,
   "metadata": {},
   "outputs": [
    {
     "data": {
      "text/plain": [
       "[Text(334.8, 543.6, 'DER_mass_transverse_met_lep <= -0.009\\ngini = 0.45\\nsamples = 250000\\nvalue = [164333, 85667]'),\n",
       " Text(167.4, 326.16, 'DER_mass_vis <= -0.324\\ngini = 0.5\\nsamples = 130000\\nvalue = [63381, 66619]'),\n",
       " Text(83.7, 108.72000000000003, 'gini = 0.441\\nsamples = 53594\\nvalue = [35998, 17596]'),\n",
       " Text(251.10000000000002, 108.72000000000003, 'gini = 0.46\\nsamples = 76406\\nvalue = [27383, 49023]'),\n",
       " Text(502.20000000000005, 326.16, 'DER_met_phi_centrality <= 0.544\\ngini = 0.267\\nsamples = 120000\\nvalue = [100952, 19048]'),\n",
       " Text(418.5, 108.72000000000003, 'gini = 0.194\\nsamples = 97140\\nvalue = [86542, 10598]'),\n",
       " Text(585.9, 108.72000000000003, 'gini = 0.466\\nsamples = 22860\\nvalue = [14410, 8450]')]"
      ]
     },
     "execution_count": 15,
     "metadata": {},
     "output_type": "execute_result"
    },
    {
     "data": {
      "image/png": "[encoded data removed]",
      "text/plain": [
       "<Figure size 864x864 with 1 Axes>"
      ]
     },
     "metadata": {
      "needs_background": "light"
     },
     "output_type": "display_data"
    }
   ],
   "source": [
    "#df2 = X_train.columns.get_values()\n",
    "plt.figure(figsize=(12,12))\n",
    "tree.plot_tree(model, fontsize = 12, rounded = True, feature_names = X_train.columns.tolist())"
   ]
  },
  {
   "cell_type": "markdown",
   "metadata": {},
   "source": [
    "## Looping over different parameters to optimize DecisionTreeClassifier()"
   ]
  },
  {
   "cell_type": "markdown",
   "metadata": {},
   "source": [
    "Decision Tress can be optimized through numerous parameter tuning and pre pruning methods. Strategies can be\n",
    "     \n",
    "     - choosing a splitter, \"best\" splitter calculates the best features to split based on the impurity measure and uses that to split the nodes. \"random\" splitter split randomly, ofc.\n",
    "     \n",
    "     (Impurity - a measure of homogeneity of the labels on a node - two methods of measuring it: Information gain and Gini Index)\n",
    "     \n",
    "     - max_depth of tree, default = None, the max depth of a decision tree is one less than the number of training samples. (if 'None', sklearn will expand the nodes until all leaves are 'pure'.\n"
   ]
  },
  {
   "cell_type": "markdown",
   "metadata": {},
   "source": [
    "### looping over increasing max_depth, criterion, and type of splitter"
   ]
  },
  {
   "cell_type": "code",
   "execution_count": 7,
   "metadata": {
    "scrolled": false
   },
   "outputs": [
    {
     "name": "stdout",
     "output_type": "stream",
     "text": [
      "crit = entropy and split = random TRAIN accuracy score [0.660072 0.67958  0.718848 0.71878  0.70932  0.715488 0.765584 0.790776\n",
      " 0.764388 0.796532 0.80172  0.821124 0.8148   0.822288 0.836696 0.84296\n",
      " 0.856608 0.867616 0.86602  0.89132 ]\n",
      "crit = entropy and split = random TEST accuracy score [0.66073 0.67907 0.71962 0.71965 0.71065 0.71645 0.76352 0.78787 0.76016\n",
      " 0.79459 0.79539 0.80863 0.80216 0.80626 0.80957 0.80879 0.81055 0.80228\n",
      " 0.80463 0.79625]\n",
      "crit = entropy and split = best TRAIN accuracy score [0.659312 0.773988 0.794488 0.8017   0.804336 0.80818  0.815308 0.820632\n",
      " 0.826972 0.83218  0.837152 0.844832 0.852464 0.8611   0.870464 0.881664\n",
      " 0.892792 0.904004 0.91562  0.926508]\n",
      "crit = entropy and split = best TEST accuracy score [0.65512 0.77161 0.79287 0.79929 0.80267 0.80557 0.81195 0.8153  0.81944\n",
      " 0.82094 0.81993 0.82006 0.81789 0.81462 0.81066 0.8068  0.80399 0.79938\n",
      " 0.79585 0.79093]\n",
      "crit = gini and split = random TRAIN accuracy score [0.660072 0.67958  0.718848 0.71878  0.715436 0.7156   0.776684 0.773248\n",
      " 0.773068 0.7955   0.811664 0.816792 0.8283   0.832164 0.837516 0.842364\n",
      " 0.860328 0.864456 0.872012 0.892696]\n",
      "crit = gini and split = random TEST accuracy score [0.66073 0.67907 0.71962 0.71965 0.71502 0.71664 0.77686 0.77448 0.76826\n",
      " 0.79079 0.80472 0.80484 0.80792 0.81035 0.80344 0.80285 0.80375 0.804\n",
      " 0.79573 0.79528]\n",
      "crit = gini and split = best TRAIN accuracy score [0.670284 0.77686  0.795192 0.804652 0.809472 0.81204  0.816812 0.823016\n",
      " 0.828412 0.834728 0.84132  0.84996  0.859228 0.86976  0.88084  0.892268\n",
      " 0.904024 0.915636 0.92684  0.936164]\n",
      "crit = gini and split = best TEST accuracy score [0.66683 0.77507 0.79387 0.80184 0.80696 0.8088  0.81421 0.8162  0.81911\n",
      " 0.82128 0.82078 0.82014 0.81815 0.81557 0.81158 0.80858 0.8055  0.80099\n",
      " 0.79815 0.79378]\n"
     ]
    },
    {
     "data": {
      "image/png": "[encoded data removed]",
      "text/plain": [
       "<Figure size 432x288 with 2 Axes>"
      ]
     },
     "metadata": {
      "needs_background": "light"
     },
     "output_type": "display_data"
    },
    {
     "data": {
      "text/plain": [
       "<Figure size 1152x1152 with 0 Axes>"
      ]
     },
     "metadata": {},
     "output_type": "display_data"
    }
   ],
   "source": [
    "fig, axs = plt.subplots(2)\n",
    "plt.figure(figsize=(16,16))\n",
    "max_depth_range = np.linspace(1, 20, 20) # absolute maximum of this value is the number of training samples minus 1\n",
    "criterions = ['entropy', 'gini']\n",
    "splitter = ['random', 'best']\n",
    "\n",
    "\n",
    "for crit in criterions: \n",
    "    for split in splitter:\n",
    "        \n",
    "        accscore = np.zeros(len(max_depth_range))\n",
    "        accscore_test = np.zeros(len(max_depth_range))\n",
    "        treescore = np.zeros(len(max_depth_range))\n",
    "        j = 0\n",
    "        \n",
    "        for depth in max_depth_range:\n",
    "            model = DecisionTreeClassifier(random_state = 10, criterion = crit, max_depth = depth, splitter = split)\n",
    "            model.fit(X_train_scaled, y_train)\n",
    "            ypred = model.predict(X_train_scaled)\n",
    "            ypred_test = model.predict(X_test_scaled)\n",
    "            accscore[j] = accuracy_score(y_train, ypred)\n",
    "            accscore_test[j] = accuracy_score(y_test, ypred_test)\n",
    "            treescore[j] = model.score(X_test_scaled,y_test)\n",
    "            j += 1\n",
    "        \n",
    "        print('crit = {} and split = {} TRAIN accuracy score'.format(crit, split), accscore)\n",
    "        print('crit = {} and split = {} TEST accuracy score'.format(crit, split), accscore_test)\n",
    "        \n",
    "        # plotting score vs max_depth\n",
    "        axs[0].plot(max_depth_range, accscore, label = 'crit = {}, split = {}'.format(crit, split))\n",
    "        axs[1].plot(max_depth_range, accscore_test, label = 'crit = {}, split = {}'.format(crit, split))\n",
    "        \n",
    "        axs[0].set_xlabel('max_depth')\n",
    "        axs[0].set_ylabel('accuracy score')\n",
    "        axs[1].set_xlabel('max_depth')\n",
    "        axs[1].set_ylabel('accuracy score')\n",
    "        \n",
    "        axs[0].legend()\n",
    "        axs[1].legend()\n",
    "\n",
    "#plt.plot(max_depth_range, accscore, label = 'train')\n",
    "#plt.plot(max_depth_range, accscore_test, label = 'test')"
   ]
  },
  {
   "cell_type": "markdown",
   "metadata": {},
   "source": [
    "### overfitting with increasing max_depth"
   ]
  },
  {
   "cell_type": "code",
   "execution_count": 11,
   "metadata": {},
   "outputs": [
    {
     "data": {
      "text/plain": [
       "<matplotlib.legend.Legend at 0x7f0fc8f7fd68>"
      ]
     },
     "execution_count": 11,
     "metadata": {},
     "output_type": "execute_result"
    },
    {
     "data": {
      "image/png": "[encoded data removed]",
      "text/plain": [
       "<Figure size 432x288 with 1 Axes>"
      ]
     },
     "metadata": {
      "needs_background": "light"
     },
     "output_type": "display_data"
    }
   ],
   "source": [
    "#plt.figure(figsize=(12,12))\n",
    "max_depth_range = np.linspace(1, 25, 25)\n",
    "\n",
    "# initializing\n",
    "accscore = np.zeros(len(max_depth_range))\n",
    "accscore_test = np.zeros(len(max_depth_range))\n",
    "j = 0\n",
    "\n",
    "for depth in max_depth_range:\n",
    "    model = DecisionTreeClassifier(random_state = 10, criterion = 'gini', max_depth = depth, splitter = 'best')\n",
    "    model.fit(X_train_scaled, y_train)\n",
    "    ypred = model.predict(X_train_scaled)\n",
    "    ypred_test = model.predict(X_test_scaled)\n",
    "    accscore[j] = accuracy_score(y_train, ypred)\n",
    "    accscore_test[j] = accuracy_score(y_test, ypred_test)\n",
    "    j += 1\n",
    "\n",
    "plt.plot(max_depth_range, accscore, label = 'train')\n",
    "plt.plot(max_depth_range, accscore_test, label = 'test')\n",
    "plt.xlabel('max_depth')\n",
    "plt.ylabel('accuracy score')\n",
    "plt.legend()"
   ]
  },
  {
   "cell_type": "code",
   "execution_count": null,
   "metadata": {},
   "outputs": [],
   "source": [
    "# remark: Decision trees also suffer from overfitting, we then choos a max_depth of 8"
   ]
  },
  {
   "cell_type": "markdown",
   "metadata": {},
   "source": [
    "# Testing different feature matrices"
   ]
  },
  {
   "cell_type": "markdown",
   "metadata": {},
   "source": [
    "I just repeat the procedure with optimized parameters, just changing the feature matrices or the dataset itself."
   ]
  },
  {
   "cell_type": "code",
   "execution_count": 13,
   "metadata": {},
   "outputs": [
    {
     "name": "stdout",
     "output_type": "stream",
     "text": [
      "Accuracy score of simple DecisionTree Classifier: (train) 0.823016\n",
      "Accuracy score of simple DecisionTree Classifier: (test) 0.8162\n",
      "Tree Score on train data: 0.823016\n",
      "Tree Score on test data: 0.8162\n"
     ]
    }
   ],
   "source": [
    "higgs = pd.read_csv('mean_data.csv')\n",
    "train = higgs[higgs['KaggleSet'] == 't' ]\n",
    "test = higgs[higgs['KaggleSet'] == 'b' ]\n",
    "data = pd.concat((train,test))\n",
    "y_train = train['Label']\n",
    "y_test = test['Label']\n",
    "todrop = ['Weight','Label','KaggleSet','KaggleWeight'] \n",
    "X_train = train.drop(todrop, axis = 1).set_index('EventId')\n",
    "X_test = test.drop(todrop, axis = 1).set_index('EventId')\n",
    "scaler = StandardScaler() #MinMaxScaler\n",
    "X_train_scaled = scaler.fit_transform(X_train)\n",
    "X_test_scaled = scaler.transform(X_test)\n",
    "X_train_scaled[:,0] = 1\n",
    "X_test_scaled[:,0] = 1\n",
    "model = DecisionTreeClassifier(random_state = 10, criterion = 'gini', max_depth = 8, splitter = 'best')\n",
    "model.fit(X_train_scaled, y_train)\n",
    "y_pred = model.predict(X_train_scaled)\n",
    "y_pred_test = model.predict(X_test_scaled)\n",
    "\n",
    "\n",
    "print('Accuracy score of simple DecisionTree Classifier: (train)', accuracy_score(y_train, y_pred))\n",
    "print('Accuracy score of simple DecisionTree Classifier: (test)', accuracy_score(y_test, y_pred_test))\n",
    "print('Tree Score on train data:', model.score(X_train_scaled,y_train))\n",
    "print('Tree Score on test data:', model.score(X_test_scaled,y_test))"
   ]
  },
  {
   "cell_type": "markdown",
   "metadata": {},
   "source": [
    "## Dropping phi features"
   ]
  },
  {
   "cell_type": "code",
   "execution_count": 12,
   "metadata": {},
   "outputs": [
    {
     "name": "stdout",
     "output_type": "stream",
     "text": [
      "Accuracy score of simple DecisionTree Classifier: (train) 0.822996\n",
      "Accuracy score of simple DecisionTree Classifier: (test) 0.81623\n",
      "Tree Score on train data: 0.822996\n",
      "Tree Score on test data: 0.81623\n"
     ]
    }
   ],
   "source": [
    "higgs = pd.read_csv('mean_data.csv')\n",
    "train = higgs[higgs['KaggleSet'] == 't' ]\n",
    "test = higgs[higgs['KaggleSet'] == 'b' ]\n",
    "data = pd.concat((train,test))\n",
    "y_train = train['Label']\n",
    "y_test = test['Label']\n",
    "todrop = ['Weight','Label','KaggleSet','KaggleWeight', 'PRI_jet_num', 'PRI_jet_leading_phi', 'PRI_jet_subleading_phi', 'PRI_met_phi', 'PRI_lep_phi', 'PRI_tau_phi' ]\n",
    "X_train = train.drop(todrop, axis = 1).set_index('EventId')\n",
    "X_test = test.drop(todrop, axis = 1).set_index('EventId')\n",
    "scaler = StandardScaler() #MinMaxScaler\n",
    "X_train_scaled = scaler.fit_transform(X_train)\n",
    "X_test_scaled = scaler.transform(X_test)\n",
    "X_train_scaled[:,0] = 1\n",
    "X_test_scaled[:,0] = 1\n",
    "model = DecisionTreeClassifier(random_state = 10, criterion = 'gini', max_depth = 8, splitter = 'best')\n",
    "model.fit(X_train_scaled, y_train)\n",
    "y_pred = model.predict(X_train_scaled)\n",
    "y_pred_test = model.predict(X_test_scaled)\n",
    "\n",
    "\n",
    "print('Accuracy score of simple DecisionTree Classifier: (train)', accuracy_score(y_train, y_pred))\n",
    "print('Accuracy score of simple DecisionTree Classifier: (test)', accuracy_score(y_test, y_pred_test))\n",
    "print('Tree Score on train data:', model.score(X_train_scaled,y_train))\n",
    "print('Tree Score on test data:', model.score(X_test_scaled,y_test))"
   ]
  },
  {
   "cell_type": "markdown",
   "metadata": {},
   "source": [
    "## how about a design matrix of only the _mass features?"
   ]
  },
  {
   "cell_type": "code",
   "execution_count": 14,
   "metadata": {},
   "outputs": [
    {
     "name": "stdout",
     "output_type": "stream",
     "text": [
      "Accuracy score of simple DecisionTree Classifier: (train) 0.768824\n",
      "Accuracy score of simple DecisionTree Classifier: (test) 0.76612\n"
     ]
    }
   ],
   "source": [
    "higgs = pd.read_csv('mean_data.csv')\n",
    "train = higgs[higgs['KaggleSet'] == 't' ]\n",
    "test = higgs[higgs['KaggleSet'] == 'b' ]\n",
    "data = pd.concat((train,test))\n",
    "y_train = train['Label']\n",
    "y_test = test['Label']\n",
    "\n",
    "X_train = train[['DER_mass_MMC' , 'DER_mass_transverse_met_lep', 'DER_mass_vis']].set_index('EventId')\n",
    "X_test = test[['DER_mass_MMC' , 'DER_mass_transverse_met_lep', 'DER_mass_vis']].set_index('EventId')\n",
    "\n",
    "\n",
    "scaler = StandardScaler() #MinMaxScaler\n",
    "X_train_scaled = scaler.fit_transform(X_train)\n",
    "X_test_scaled = scaler.transform(X_test)\n",
    "X_train_scaled[:,0] = 1\n",
    "X_test_scaled[:,0] = 1\n",
    "model = DecisionTreeClassifier(random_state = 10, criterion = 'gini', max_depth = 8, splitter = 'best')\n",
    "model.fit(X_train_scaled, y_train)\n",
    "y_pred = model.predict(X_train_scaled)\n",
    "y_pred_test = model.predict(X_test_scaled)\n",
    "\n",
    "\n",
    "print('Accuracy score of simple DecisionTree Classifier: (train)', accuracy_score(y_train, y_pred))\n",
    "print('Accuracy score of simple DecisionTree Classifier: (test)', accuracy_score(y_test, y_pred_test))"
   ]
  },
  {
   "cell_type": "markdown",
   "metadata": {},
   "source": [
    "### fitting higher order polynomials for a feature with _mass columns only?"
   ]
  },
  {
   "cell_type": "code",
   "execution_count": 18,
   "metadata": {},
   "outputs": [
    {
     "name": "stdout",
     "output_type": "stream",
     "text": [
      "Accuracy score of simple DecisionTree Classifier: (train) [0.768824 0.769264 0.768112 0.768732 0.768676 0.768648 0.768764 0.768736\n",
      " 0.76882  0.768788]\n",
      "Accuracy score of simple DecisionTree Classifier: (test) [0.76611 0.76604 0.76466 0.76499 0.7655  0.76535 0.76485 0.76522 0.76492\n",
      " 0.7655 ]\n"
     ]
    },
    {
     "data": {
      "text/plain": [
       "<matplotlib.legend.Legend at 0x7f0fc8c39048>"
      ]
     },
     "execution_count": 18,
     "metadata": {},
     "output_type": "execute_result"
    },
    {
     "data": {
      "image/png": "[encoded data removed]",
      "text/plain": [
       "<Figure size 432x288 with 1 Axes>"
      ]
     },
     "metadata": {
      "needs_background": "light"
     },
     "output_type": "display_data"
    }
   ],
   "source": [
    "from sklearn.preprocessing import PolynomialFeatures\n",
    "higgs = pd.read_csv('mean_data.csv')\n",
    "train = higgs[higgs['KaggleSet'] == 't' ]\n",
    "test = higgs[higgs['KaggleSet'] == 'b' ]\n",
    "data = pd.concat((train,test))\n",
    "y_train = train['Label']\n",
    "y_test = test['Label']\n",
    "\n",
    "X_train = train[['DER_mass_MMC' , 'DER_mass_transverse_met_lep', 'DER_mass_vis']].set_index('EventId')\n",
    "X_test = test[['DER_mass_MMC' , 'DER_mass_transverse_met_lep', 'DER_mass_vis']].set_index('EventId')\n",
    "\n",
    "scaler = StandardScaler() #MinMaxScaler\n",
    "X_train_scaled = scaler.fit_transform(X_train)\n",
    "X_test_scaled = scaler.transform(X_test)\n",
    "X_train_scaled[:,0] = 1\n",
    "X_test_scaled[:,0] = 1\n",
    "model = DecisionTreeClassifier(random_state = 10, criterion = 'gini', max_depth = 8, splitter = 'best')\n",
    "degree = [i for i in range(1,11)]\n",
    "trainscore = np.zeros(len(degree))\n",
    "testscore = np.zeros(len(degree))\n",
    "\n",
    "j = 0\n",
    "for deg in degree:\n",
    "    poly = PolynomialFeatures(deg)\n",
    "    X_train_scaled_ = poly.fit_transform(X_train_scaled)\n",
    "    X_test_scaled_ = poly.transform(X_test_scaled)\n",
    "    \n",
    "    ## model building \n",
    "    model.fit(X_train_scaled_, y_train)\n",
    "    y_pred = model.predict(X_train_scaled_)\n",
    "    y_pred_test = model.predict(X_test_scaled_)\n",
    "    trainscore[j] = accuracy_score(y_train, y_pred)\n",
    "    testscore[j] = accuracy_score(y_test, y_pred_test)\n",
    "    j += 1\n",
    "    \n",
    "\n",
    "\n",
    "print('Accuracy score of simple DecisionTree Classifier: (train)', trainscore)\n",
    "print('Accuracy score of simple DecisionTree Classifier: (test)', testscore)\n",
    "plt.plot(degree, trainscore, label = 'train')\n",
    "plt.plot(degree, testscore, label = 'test')\n",
    "plt.ylabel('score')\n",
    "plt.xlabel('complexity (degree)')\n",
    "plt.legend()"
   ]
  },
  {
   "cell_type": "markdown",
   "metadata": {},
   "source": [
    "Conclusion: feature matrix didn't matter really, it was better with more features."
   ]
  },
  {
   "cell_type": "markdown",
   "metadata": {},
   "source": [
    "# Comparing to differently imputed datasets"
   ]
  },
  {
   "cell_type": "markdown",
   "metadata": {},
   "source": [
    "### zero_data"
   ]
  },
  {
   "cell_type": "code",
   "execution_count": 25,
   "metadata": {},
   "outputs": [
    {
     "name": "stdout",
     "output_type": "stream",
     "text": [
      "Accuracy score of simple DecisionTree Classifier: (train) 0.825144\n",
      "Accuracy score of simple DecisionTree Classifier: (test) 0.81932\n",
      "Tree Score on train data: 0.825144\n",
      "Tree Score on test data: 0.81932\n"
     ]
    }
   ],
   "source": [
    "higgs = pd.read_csv('zero_data.csv')\n",
    "train = higgs[higgs['KaggleSet'] == 't' ]\n",
    "test = higgs[higgs['KaggleSet'] == 'b' ]\n",
    "data = pd.concat((train,test))\n",
    "y_train = train['Label']\n",
    "y_test = test['Label']\n",
    "todrop = ['Weight','Label','KaggleSet','KaggleWeight'] \n",
    "X_train = train.drop(todrop, axis = 1).set_index('EventId')\n",
    "X_test = test.drop(todrop, axis = 1).set_index('EventId')\n",
    "scaler = StandardScaler() #MinMaxScaler\n",
    "X_train_scaled = scaler.fit_transform(X_train)\n",
    "X_test_scaled = scaler.transform(X_test)\n",
    "X_train_scaled[:,0] = 1\n",
    "X_test_scaled[:,0] = 1\n",
    "model = DecisionTreeClassifier(random_state = 10, criterion = 'gini', max_depth = 8, splitter = 'best')\n",
    "model.fit(X_train_scaled, y_train)\n",
    "y_pred = model.predict(X_train_scaled)\n",
    "y_pred_test = model.predict(X_test_scaled)\n",
    "\n",
    "\n",
    "print('Accuracy score of simple DecisionTree Classifier: (train)', accuracy_score(y_train, y_pred))\n",
    "print('Accuracy score of simple DecisionTree Classifier: (test)', accuracy_score(y_test, y_pred_test))\n",
    "print('Tree Score on train data:', model.score(X_train_scaled,y_train))\n",
    "print('Tree Score on test data:', model.score(X_test_scaled,y_test))"
   ]
  },
  {
   "cell_type": "markdown",
   "metadata": {},
   "source": [
    "### most_frequent"
   ]
  },
  {
   "cell_type": "code",
   "execution_count": 20,
   "metadata": {},
   "outputs": [
    {
     "name": "stdout",
     "output_type": "stream",
     "text": [
      "Accuracy score of simple DecisionTree Classifier: (train) 0.824824\n",
      "Accuracy score of simple DecisionTree Classifier: (test) 0.81766\n",
      "Tree Score on train data: 0.824824\n",
      "Tree Score on test data: 0.81766\n"
     ]
    }
   ],
   "source": [
    "higgs = pd.read_csv('most_frequent_data.csv')\n",
    "train = higgs[higgs['KaggleSet'] == 't' ]\n",
    "test = higgs[higgs['KaggleSet'] == 'b' ]\n",
    "data = pd.concat((train,test))\n",
    "y_train = train['Label']\n",
    "y_test = test['Label']\n",
    "todrop = ['Weight','Label','KaggleSet','KaggleWeight'] \n",
    "X_train = train.drop(todrop, axis = 1).set_index('EventId')\n",
    "X_test = test.drop(todrop, axis = 1).set_index('EventId')\n",
    "scaler = StandardScaler() #MinMaxScaler\n",
    "X_train_scaled = scaler.fit_transform(X_train)\n",
    "X_test_scaled = scaler.transform(X_test)\n",
    "X_train_scaled[:,0] = 1\n",
    "X_test_scaled[:,0] = 1\n",
    "model = DecisionTreeClassifier(random_state = 10, criterion = 'gini', max_depth = 8, splitter = 'best')\n",
    "model.fit(X_train_scaled, y_train)\n",
    "y_pred = model.predict(X_train_scaled)\n",
    "y_pred_test = model.predict(X_test_scaled)\n",
    "\n",
    "\n",
    "print('Accuracy score of simple DecisionTree Classifier: (train)', accuracy_score(y_train, y_pred))\n",
    "print('Accuracy score of simple DecisionTree Classifier: (test)', accuracy_score(y_test, y_pred_test))\n",
    "print('Tree Score on train data:', model.score(X_train_scaled,y_train))\n",
    "print('Tree Score on test data:', model.score(X_test_scaled,y_test))"
   ]
  },
  {
   "cell_type": "code",
   "execution_count": null,
   "metadata": {},
   "outputs": [],
   "source": [
    "# Remarks the zero_data seems to give the best scores, not so significant difference though"
   ]
  },
  {
   "cell_type": "markdown",
   "metadata": {},
   "source": [
    "# BAGGING the DecisionTreeClassifier?\n",
    "After optimizing some parameters in the DecisionTreeClassifier we try one last attempt to boost the accuracy score by baggign the decission tree classifier.\n",
    "\n",
    "Bagging is an ensemble model that simply combines the prediction from many decision trees. It is defined as bootstrap aggregation and is a general purpose procedure for reducing the variance of a classifier. It supposedly improves prediction accuracy, however, with DECREASED interpretability (a collection of bagged trees is more difficult to interpret than a simple lone decision tree).  \n",
    "\n",
    "Ultimately, it increases our accuracy score very little, an improvement (nonetheless)."
   ]
  },
  {
   "cell_type": "code",
   "execution_count": 3,
   "metadata": {
    "scrolled": true
   },
   "outputs": [
    {
     "name": "stdout",
     "output_type": "stream",
     "text": [
      "Accuracy score of simple DecisionTree Classifier: (train) 0.830264\n",
      "Accuracy score of simple DecisionTree Classifier: (test) 0.82484\n",
      "Tree Score on train data: 0.830264\n",
      "Tree Score on test data: 0.82484\n"
     ]
    }
   ],
   "source": [
    "from sklearn.ensemble import BaggingClassifier\n",
    "\n",
    "higgs = pd.read_csv('zero_data.csv')\n",
    "train = higgs[higgs['KaggleSet'] == 't' ]\n",
    "test = higgs[higgs['KaggleSet'] == 'b' ]\n",
    "data = pd.concat((train,test))\n",
    "y_train = train['Label']\n",
    "y_test = test['Label']\n",
    "todrop = ['Weight','Label','KaggleSet','KaggleWeight'] \n",
    "X_train = train.drop(todrop, axis = 1).set_index('EventId')\n",
    "X_test = test.drop(todrop, axis = 1).set_index('EventId')\n",
    "scaler = StandardScaler() #MinMaxScaler\n",
    "X_train_scaled = scaler.fit_transform(X_train)\n",
    "X_test_scaled = scaler.transform(X_test)\n",
    "X_train_scaled[:,0] = 1\n",
    "X_test_scaled[:,0] = 1\n",
    "model = BaggingClassifier(DecisionTreeClassifier(random_state = 10, criterion = 'gini', max_depth = 8, splitter = 'best'), n_estimators=500, max_samples=1.0, bootstrap=True, n_jobs=-1, random_state=10)\n",
    "model.fit(X_train_scaled, y_train)\n",
    "y_pred = model.predict(X_train_scaled)\n",
    "y_pred_test = model.predict(X_test_scaled)\n",
    "\n",
    "\n",
    "print('Accuracy score of simple DecisionTree Classifier: (train)', accuracy_score(y_train, y_pred))\n",
    "print('Accuracy score of simple DecisionTree Classifier: (test)', accuracy_score(y_test, y_pred_test))\n",
    "print('Tree Score on train data:', model.score(X_train_scaled,y_train))\n",
    "print('Tree Score on test data:', model.score(X_test_scaled,y_test))"
   ]
  },
  {
   "cell_type": "markdown",
   "metadata": {},
   "source": [
    "### reminder from here on we choose the most_frequent_data set"
   ]
  },
  {
   "cell_type": "markdown",
   "metadata": {},
   "source": [
    "# Dividing dataset by jet number \n",
    "\n",
    "We look at how the model performs for different subsets of data. We focus on dividing the data into subsets accodring to the jet_num = [0.0, 1.0, 2.0, 3.0]"
   ]
  },
  {
   "cell_type": "code",
   "execution_count": 4,
   "metadata": {},
   "outputs": [
    {
     "name": "stdout",
     "output_type": "stream",
     "text": [
      "Score of (train) dataset jet num = 0: 0.8556344019296788\n",
      "Score of (test) dataset jet num = 0: 0.8454049747279835\n",
      "Score of (train) dataset jet num = 1: 0.8155627772619416\n",
      "Score of (test) dataset jet num = 1: 0.8012081452372446\n",
      "Score of (train) dataset jet num = 2: 0.8437642668572223\n",
      "Score of (test) dataset jet num = 2: 0.8284318563110629\n",
      "Score of (train) dataset jet num = 3: 0.8639685977260422\n",
      "Score of (test) dataset jet num = 3: 0.8227790432801823\n"
     ]
    }
   ],
   "source": [
    "from sklearn.ensemble import BaggingClassifier\n",
    "\n",
    "higgs = pd.read_csv('most_frequent_data.csv')\n",
    "jet_nums = [0, 1, 2, 3]\n",
    "train_score = np.zeros(len(jet_nums))\n",
    "test_score = np.zeros(len(jet_nums))\n",
    "j = 0\n",
    "for jet in jet_nums:\n",
    "    train1 = higgs[higgs['KaggleSet'] == 't']\n",
    "    train = train1[train1['PRI_jet_num'] == jet]\n",
    "    test1 = higgs[higgs['KaggleSet'] == 'b']\n",
    "    test = test1[test1['PRI_jet_num'] == jet]\n",
    "    data = pd.concat((train,test))\n",
    "    y_train = train['Label']\n",
    "    y_test = test['Label']\n",
    "    \n",
    "    # feature matrix for each value of jet_num\n",
    "    if jet == 0:\n",
    "        todrop = ['Weight','Label','KaggleSet','KaggleWeight', 'PRI_jet_num', 'DER_deltaeta_jet_jet', 'DER_mass_jet_jet', 'DER_prodeta_jet_jet', 'DER_lep_eta_centrality', 'PRI_jet_leading_pt', 'PRI_jet_leading_eta', 'PRI_jet_leading_phi', 'PRI_jet_subleading_pt', 'PRI_jet_subleading_eta', 'PRI_jet_subleading_phi'] \n",
    "    elif jet == 1:\n",
    "        todrop = ['Weight','Label','KaggleSet','KaggleWeight', 'PRI_jet_num', 'DER_deltaeta_jet_jet', 'DER_mass_jet_jet', 'DER_prodeta_jet_jet', 'DER_lep_eta_centrality', 'PRI_jet_subleading_pt', 'PRI_jet_subleading_eta', 'PRI_jet_subleading_phi']\n",
    "    else:\n",
    "        todrop = ['Weight','Label','KaggleSet','KaggleWeight', 'PRI_jet_num'] \n",
    "    \n",
    "    X_train = train.drop(todrop, axis = 1).set_index('EventId')\n",
    "    X_test = test.drop(todrop, axis = 1).set_index('EventId')\n",
    "    scaler = StandardScaler() #MinMaxScaler\n",
    "    X_train_scaled = scaler.fit_transform(X_train)\n",
    "    X_test_scaled = scaler.transform(X_test)\n",
    "    X_train_scaled[:,0] = 1\n",
    "    X_test_scaled[:,0] = 1\n",
    "    model = BaggingClassifier(DecisionTreeClassifier(random_state = 10, criterion = 'gini', max_depth = 8, splitter = 'best'), n_estimators=500, max_samples=1.0, bootstrap=True, n_jobs=-1, random_state=10)\n",
    "    model.fit(X_train_scaled, y_train)\n",
    "    y_pred = model.predict(X_train_scaled)\n",
    "    y_pred_test = model.predict(X_test_scaled)\n",
    "    train_score[j] = accuracy_score(y_train, y_pred)\n",
    "    test_score[j] = accuracy_score(y_test, y_pred_test)\n",
    "    print('Score of (train) dataset', 'jet num = {}:'.format(jet) ,accuracy_score(y_train, y_pred))\n",
    "    print('Score of (test) dataset', 'jet num = {}:'.format(jet) ,accuracy_score(y_test, y_pred_test))"
   ]
  },
  {
   "cell_type": "markdown",
   "metadata": {},
   "source": [
    "Observation: improved a teeny tiny bit for jet_num = 0, 1, where columns were removed. \n",
    "\n",
    "To compare to other models in the project, we look at the confusion matrix for jet = 3 from the most_frequent_data.csv"
   ]
  },
  {
   "cell_type": "markdown",
   "metadata": {},
   "source": [
    "# Final Confusion Matrix and Cumulative Gain Plot\n",
    "\n",
    "The following presents the final confusion matrix from optimizing our Decision Tree Classifier. A confusion matrix presents a matrix of predicted and actual values and is a great way to evaluate our model. It presents the actual number of entries that are:\n",
    "1. True Positive - where the predicted 's' categories matched the actual 's' labels\n",
    "2. True Negatives - where the predicted is 'b' matched actual 'b'\n",
    "3. False Positive (Negative)- wherre the predicted is 's' ('b') but actually 'b' ('s')\n",
    "\n",
    "ref (for most of these descriptions): https://towardsdatascience.com/understanding-confusion-matrix-a9ad42dcfd62"
   ]
  },
  {
   "cell_type": "code",
   "execution_count": 3,
   "metadata": {},
   "outputs": [
    {
     "data": {
      "text/plain": [
       "<AxesSubplot:>"
      ]
     },
     "execution_count": 3,
     "metadata": {},
     "output_type": "execute_result"
    },
    {
     "data": {
      "image/png": "[encoded data removed]",
      "text/plain": [
       "<Figure size 720x576 with 2 Axes>"
      ]
     },
     "metadata": {
      "needs_background": "light"
     },
     "output_type": "display_data"
    }
   ],
   "source": [
    "confmat = confusion_matrix(y_test, y_pred_test, labels = ['s','b'])\n",
    "cm = pd.DataFrame(confmat,\n",
    "                  index = ['signal (true)' , 'background (true)'], \n",
    "                  columns = ['signal (model)', ' background (model)'])\n",
    "cm\n",
    "plt.figure(figsize=[10,8])\n",
    "sns.heatmap(cm, cmap='Greens', linecolor = 'black', annot = True, fmt='d')"
   ]
  },
  {
   "cell_type": "markdown",
   "metadata": {},
   "source": [
    "A cumulative gain plot shows the percentage of the overall number of entries in a given label (either 's' or 'b') gained by targeting a percentage of the total numberr of entries. The diagonal line is called the baseline curve and the farther above the baseline, the greater the gain; and staying along this diagonal line means that there will be no increase in gains even for an increase of samples. These plots are great for choosing a cutoff to the amount of data you can choose to train your model. \n",
    "\n",
    "ref: https://www.ibm.com/support/knowledgecenter/en/SSLVMB_23.0.0/spss/tutorials/mlp_bankloan_outputtype_02.html"
   ]
  },
  {
   "cell_type": "code",
   "execution_count": 4,
   "metadata": {},
   "outputs": [
    {
     "data": {
      "text/plain": [
       "<AxesSubplot:title={'center':'Cumulative Gains Curve'}, xlabel='Percentage of sample', ylabel='Gain'>"
      ]
     },
     "execution_count": 4,
     "metadata": {},
     "output_type": "execute_result"
    },
    {
     "data": {
      "image/png": "[encoded data removed]",
      "text/plain": [
       "<Figure size 432x288 with 1 Axes>"
      ]
     },
     "metadata": {
      "needs_background": "light"
     },
     "output_type": "display_data"
    }
   ],
   "source": [
    "import scikitplot as skplt\n",
    "\n",
    "y_probas = model.predict_proba(X_test_scaled)\n",
    "skplt.metrics.plot_cumulative_gain(y_test, y_probas)"
   ]
  }
 ],
 "metadata": {
  "kernelspec": {
   "display_name": "Python 3",
   "language": "python",
   "name": "python3"
  },
  "language_info": {
   "codemirror_mode": {
    "name": "ipython",
    "version": 3
   },
   "file_extension": ".py",
   "mimetype": "text/x-python",
   "name": "python",
   "nbconvert_exporter": "python",
   "pygments_lexer": "ipython3",
   "version": "3.6.9"
  }
 },
 "nbformat": 4,
 "nbformat_minor": 4
}
